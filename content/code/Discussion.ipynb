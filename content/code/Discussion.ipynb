{
 "cells": [
  {
   "cell_type": "markdown",
   "id": "3b2c7596",
   "metadata": {},
   "source": [
    "## Evaluation and Discussion of the Results"
   ]
  },
  {
   "attachments": {},
   "cell_type": "markdown",
   "id": "a7f40caf",
   "metadata": {},
   "source": [
    "The aim of this research project was to investigate whether diagnostic subtypes of ADHD differ in their abnormalities in functional connectivity between specific brain regions. For this purpose, data from the ADHD-200 sample available on Nilearn was used. However, this data set included only 40 subjects. Furthermore, closer examination of these 40 subjects revealed that participants were unevenly distributed across the different diagnostic groups. While half of the participants did not have ADHD, 15 had an ADHD-Combined diagnosis and another 5 had an ADHD-Inattentive diagnosis. Accordingly, the Hyperactive/Impulsive subtype was not represented at all in the data set studied.\n",
    "\n",
    "Due to this problem, attempts were made to obtain further data of the ADHD-200 sample. This failed due to difficulties in downloading the corresponding files, where even the support of the platform brainlife could not help.\n",
    "\n",
    "It is obvious that the data set considered in the analysis is not sufficient to answer the research questions of this project. Nevertheless, the results of the analysis will be briefly discussed here.\n",
    "\n",
    "The supervised learning algorithm used here was able to correctly assign the subjects to a diagnosis group based on their functional connectivity, with a probability of 0.425. Since 3 groups were included in the analysis (No ADHD, ADHD-Combined, ADHD-Inattentive), the probability of guessing corresponds to approximately 0.333. The algorithm was thus better in predicting the diagnosis than chance. This result would suggest that the studied groups differ in terms of their functional connectivity.\n",
    "\n",
    "Clustering of the functional connectomes revealed that a number of 6 clusters best matched the data under consideration. Thus, the unsupervised learning algorithm found more distinguishable groups in the data set with respect to connectomes than a classification by diagnosis would yield. However, it cannot yet be concluded from this that the diagnostic subtypes of ADHD do not differ with respect to their functional connectivity of the brain regions considered. Had more data been available, the clusters formed could have been explored in more detail. For example, one could have examined which subjects were assigned together to a cluster to see if a particular pattern emerged. In addition, one could have checked which connections between the considered brain regions differ exactly between the clusters.\n",
    "\n",
    "Based on the studies described in the literature review, it was expected that the following abnormalities would be evident for each subtype of ADHD compared to the other groups:\n",
    "ADHD-Inattentive: hyperconnectivity between frontoparietal network (FPN) and default mode network (DMN) and hypoconnectivity between FPN and ventral attention network (VAN)\n",
    "ADHD-Hyperactive/Impulsive: hypoconnectivity between FPN and the somatosensory network and hyperconnectivity between the affective network (AN) and the regions of the DMN and FPN\n",
    "ADHD-Combined: a combination of all the impairments described in the other subtypes\n",
    "\n",
    "If the results of the analyses had not matched these expectations even with a larger data set, different reasons could have been discussed for this. On the one hand, the methodological steps within the data analysis might have been unsuitable for the present project. Among these, the choice of correlation as a measure of connectivity between brain regions could be critically considered. [Dadi et al. (2019)](https://doi-org.proxy.ub.uni-frankfurt.de/10.1016/j.neuroimage.2019.02.062) examined analytic pipelines typically used in the study of functional connectomes. They also distinguished between correlations, partial correlations, and the tangent space of covariance. The results revealed that the tangent-based parametrization of covariances worked best to reveal biomarkers of clinical traits. However, they used altases to define brain regions of interest, which divide the brain into many regions on a very small scale. In the present project, seven large scale networks were considered, so it is unclear whether the findings of the study by [Dadi et al. (2019)](https://doi-org.proxy.ub.uni-frankfurt.de/10.1016/j.neuroimage.2019.02.062) can be directly applied to the approach used here. This would need to be investigated in further studies.\n",
    "\n",
    "Besides methodological weaknesses of this project, however, quite different reasons could be responsible if the diagnostic groups do not differ systematically in their functional connectivities. As already described in the literature review, diagnoses are mostly based on questionnaires looking at the behavior and symptoms of the affected persons. Based on the information provided in these questionnaires, affected individuals are assigned to the different subtypes of ADHD. Thus, they are based on the assumption that there are exactly three distinguishable subtypes. It could be that affected persons can even be divided into more groups with regard to their neuronal impairments. In this case, it would be very important to investigate in further research how exactly these groups differ. If necessary, diagnostic instruments of AHDD would have to be adapted to these new findings in the long term.\n",
    "\n",
    "In summary, the present project includes an important attempt to better understand neuronal abnormalities in patients with ADHD. However, due to the too small and uneven data set, no more precise conclusions can be drawn from the results. Further studies with as large a dataset as possible are needed here."
   ]
  }
 ],
 "metadata": {
  "kernelspec": {
   "display_name": "neuro_ai",
   "language": "python",
   "name": "neuro_ai"
  },
  "language_info": {
   "codemirror_mode": {
    "name": "ipython",
    "version": 3
   },
   "file_extension": ".py",
   "mimetype": "text/x-python",
   "name": "python",
   "nbconvert_exporter": "python",
   "pygments_lexer": "ipython3",
   "version": "3.7.0"
  }
 },
 "nbformat": 4,
 "nbformat_minor": 5
}
