{
 "cells": [
  {
   "cell_type": "markdown",
   "id": "b19abeef",
   "metadata": {},
   "source": [
    "# Data- and Projectmanagement"
   ]
  },
  {
   "cell_type": "markdown",
   "id": "acd78831",
   "metadata": {},
   "source": [
    "## Description and Evaluation of the Dataset"
   ]
  },
  {
   "cell_type": "markdown",
   "id": "24243d28",
   "metadata": {},
   "source": [
    "## Version Control"
   ]
  },
  {
   "cell_type": "markdown",
   "id": "9e44c7b4",
   "metadata": {},
   "source": [
    "## GitHub Repository"
   ]
  },
  {
   "cell_type": "markdown",
   "id": "a4c25c68",
   "metadata": {},
   "source": [
    "## Zotero Library "
   ]
  },
  {
   "cell_type": "markdown",
   "id": "648fe573",
   "metadata": {},
   "source": [
    "## Open Lab Notebook"
   ]
  },
  {
   "cell_type": "markdown",
   "id": "857e2164",
   "metadata": {},
   "source": [
    "## Computational Environment"
   ]
  }
 ],
 "metadata": {
  "kernelspec": {
   "display_name": "neuro_ai",
   "language": "python",
   "name": "neuro_ai"
  },
  "language_info": {
   "codemirror_mode": {
    "name": "ipython",
    "version": 3
   },
   "file_extension": ".py",
   "mimetype": "text/x-python",
   "name": "python",
   "nbconvert_exporter": "python",
   "pygments_lexer": "ipython3",
   "version": "3.7.0"
  }
 },
 "nbformat": 4,
 "nbformat_minor": 5
}
