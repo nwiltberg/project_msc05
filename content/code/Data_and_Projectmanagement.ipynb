{
 "cells": [
  {
   "cell_type": "markdown",
   "id": "159fccfc",
   "metadata": {},
   "source": [
    "# Data- and Projectmanagement"
   ]
  },
  {
   "cell_type": "markdown",
   "id": "76c6f8ec",
   "metadata": {},
   "source": [
    "## Description and Evaluation of the Dataset"
   ]
  },
  {
   "cell_type": "markdown",
   "id": "29f2a439",
   "metadata": {},
   "source": [
    "The [ADHD-200 sample]( http://fcon_1000.projects.nitrc.org/indi/adhd200/index.html) is a dataset that contains functional magnetic resonance imaging (fMRI) scans of individuals diagnosed with Attention Deficit Hyperactivity Disorder (ADHD) and typically developing controls. It was created to facilitate research on the neural basis of ADHD and to help identify potential biomarkers for the disorder.\n",
    "\n",
    "The ADHD-200 sample includes data from a total of 947 individuals, with 362 diagnosed with ADHD and 585 typically developing controls. The resting-state fMRI scans were acquired at multiple sites using different scanners and imaging protocols.\n",
    "In addition to the fMRI scans, the dataset includes extensive clinical and demographic information about each participant. This includes information about their age, gender, handedness, medication status, and symptom severity as measured by various rating scales.\n",
    "\n",
    "One of the key strengths of the ADHD-200 Sample is the large sample size, which allows for the detection of differences in brain function between individuals with ADHD and typically developing controls. Additionally, the inclusion of multiple imaging sites and protocols helps to ensure the robustness and generalizability of any findings.\n",
    "\n",
    "The dataset can be accessed from the website of the [Neuroimgaging Tools & Resources Collaboratory (NITRC)]( https://www.nitrc.org/). This free web-based platform provides free access to data and enables pay-per-use cloud-based access to unlimited computing power, enabling worldwide scientific collaboration. As a part of the 1000 Functional Connectome Project the ADHD-200 sample can be found [here]( https://www.nitrc.org/projects/fcon_1000).\n",
    "\n",
    "In this research project, preprocessed data of the ADHD-200 sample has been used [(Bellec et al., 2017)]( https://doi-org.proxy.ub.uni-frankfurt.de/10.1016/j.neuroimage.2016.06.034). The process of preprocessing was done by the [Preprocessed Connectomes Project]( http://preprocessed-connectomes-project.org/) which began as a competition the ADHD-200 Consortium hosted to identify biomarkers of ADHD. The dataset was preprocessed by three different teams using their preferred piplines. More information about this can be found [here]( http://preprocessed-connectomes-project.org/adhd200/). The preprocessed data are available on [NITRC](https://www.nitrc.org/frs/?group_id=383) and a subdataset can be obtained from [Nilearn]( https://nilearn.github.io/dev/modules/generated/nilearn.datasets.fetch_adhd.html). \n",
    "\n",
    "Despite the various options for accessing the data set, there were problems in data acquisition in the present research project. The access via Nilearn worked without any problems, but this dataset only contains a maximum of 40 subjects. The attempt to load preprocessed data from NITRC was successful, but the downloaded dataset (preprocessing results of the NYU test sample) was missing the regressor files which were provided by Nilearn. Despite inquiries from the project managers, the reason for this remained unclear.\n",
    "\n",
    "Due to these problems, attempts were also made to process unprocessed data via the platform [brainlife]( https://brainlife.io/). Brainlife is a cloud-based platform allowing researchers to upload, organize and analyse brain imaging data. On this platform, the NYU sample of the ADHD-200 dataset was preprocessed using the [Configurable Pipeline for the Analysis of Connectomes]( https://brainlife.io/app/5f3593e84615e04651bf9364) (C-PAC). This pipeline also provides the correlation matrices for various brain parcellations, which could have been further processed directly in this project. However, the attempt to automatically download the respective outcome files for all subjects failed. It would have been possible to download the entire output, but this was neither feasible nor practical due to the large amount of data. In addition, error messages kept appearing during preprocessing. Neither the errors nor the problems with the download of output files could be clarified, not even with the help of brainlife support.\n",
    "\n",
    "These problems show that access to the data required in this project worked less well than the theoretical availability would suggest. \n",
    "\n",
    "Overall, the ADHD-200 Sample represents a valuable resource for researchers investigating the neural basis of ADHD and the potential for neuroimaging to serve as a biomarker for the disorder. The large sample size and extensive clinical and demographic information make this dataset an important tool for advancing our understanding of this complex disorder. However, there are weaknesses in terms of data access.\n"
   ]
  },
  {
   "cell_type": "markdown",
   "id": "ac6fb701",
   "metadata": {},
   "source": [
    "## Version Control"
   ]
  },
  {
   "cell_type": "markdown",
   "id": "d6cf7e51",
   "metadata": {},
   "source": [
    "Working on a project like this, it is very important to record versions by tracking changes in the code or files of the project. Version control is very useful because it provides a history of changes and creates backups.\n",
    "\n",
    "In this project, [GitHub](https://github.com/) is used for version control. GitHub is a webbased hosting service that allows to manage changes over time. It allows to recreate a local folder structure in a repository on GitHub. If one makes a change in a locally stored file, it can be pushed. This also changes the file stored online and various change steps are recorded on GitHub."
   ]
  },
  {
   "cell_type": "markdown",
   "id": "5de47c58",
   "metadata": {},
   "source": [
    "### GitHub Repository"
   ]
  },
  {
   "cell_type": "markdown",
   "id": "43ddce01",
   "metadata": {},
   "source": [
    "The GitHub repository of this project can be found [here](https://github.com/nwiltberg/project_msc05). \n",
    "\n",
    "In addition to the content and various chapters presented here, it also contains all the files that are necessary for the creation of this website. Furthermore, the computational environment used for this project is stored there."
   ]
  },
  {
   "cell_type": "markdown",
   "id": "b2f18908",
   "metadata": {},
   "source": [
    "## Zotero Library "
   ]
  },
  {
   "cell_type": "markdown",
   "id": "040bbd92",
   "metadata": {},
   "source": [
    "All the resources used in this project are stored in a Zotero Library. [Zotero](https://www.zotero.org/) is a free and open-source reference management software designed to help researchers collect, organize, cite, and share their research sources. It can save and organize books, journal articles, websites and other resources and is able to automatically extract metadata from sources like the authors, the title, and the publication dates.\n",
    "\n",
    "The Zotero Library of this project can be found [here](https://osf.io/4ez8h/). This link leads to the corresponding OSF project. [OSF](https://osf.io/) stands for Open Science Framework is an open-source online platform researchers can use to manage projects and register their studies. It can be used to document, archive and share projects, the corresponding material and data."
   ]
  },
  {
   "cell_type": "markdown",
   "id": "b3dd8532",
   "metadata": {},
   "source": [
    "## Open Lab Notebook"
   ]
  },
  {
   "cell_type": "markdown",
   "id": "b05a1d74",
   "metadata": {},
   "source": [
    "An open lab notebook is used to document the procedure of this project. It gives an overview of when which task was completed, where problems occurred and how these problems were dealt with. \n",
    "\n",
    "While there are various ways to set up an open lab notebook, in the present project a file for each calendar week was stored in the GitHub repository. Each file contains the work steps that were processed in the corresponding week.\n",
    "\n",
    "You can find the Open Lab Notebook [in the corresponding folder of the GitHub repository](https://github.com/nwiltberg/project_msc05/tree/main/open_lab_notebook)."
   ]
  },
  {
   "cell_type": "markdown",
   "id": "1df893dc",
   "metadata": {},
   "source": [
    "## Computational Environment"
   ]
  },
  {
   "attachments": {},
   "cell_type": "markdown",
   "id": "11905880",
   "metadata": {},
   "source": [
    "To enable other people to run the code contained in this project, not only the code itself is available on GitHub, but also the computational environment. It can be found in the folder [content/code](https://github.com/nwiltberg/project_msc05/tree/main/content/code) in the [GitHub repository](https://github.com/nwiltberg/project_msc05)."
   ]
  }
 ],
 "metadata": {
  "kernelspec": {
   "display_name": "neuro_ai",
   "language": "python",
   "name": "neuro_ai"
  },
  "language_info": {
   "codemirror_mode": {
    "name": "ipython",
    "version": 3
   },
   "file_extension": ".py",
   "mimetype": "text/x-python",
   "name": "python",
   "nbconvert_exporter": "python",
   "pygments_lexer": "ipython3",
   "version": "3.7.0"
  }
 },
 "nbformat": 4,
 "nbformat_minor": 5
}
