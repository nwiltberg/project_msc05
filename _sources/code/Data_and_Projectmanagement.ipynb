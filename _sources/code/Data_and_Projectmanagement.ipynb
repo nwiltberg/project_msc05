{
 "cells": [
  {
   "cell_type": "markdown",
   "id": "159fccfc",
   "metadata": {},
   "source": [
    "# Data- and Projectmanagement"
   ]
  },
  {
   "cell_type": "markdown",
   "id": "76c6f8ec",
   "metadata": {},
   "source": [
    "## Description and Evaluation of the Dataset"
   ]
  },
  {
   "cell_type": "markdown",
   "id": "29f2a439",
   "metadata": {},
   "source": [
    "..."
   ]
  },
  {
   "cell_type": "markdown",
   "id": "ac6fb701",
   "metadata": {},
   "source": [
    "## Version Control"
   ]
  },
  {
   "cell_type": "markdown",
   "id": "d6cf7e51",
   "metadata": {},
   "source": [
    "Working on a project like this, it is very important to record versions by tracking changes in the code or files of the project. Version control is very useful because it provides a history of changes and creates backups.\n",
    "\n",
    "In this project, [GitHub](https://github.com/) is used for version control. GitHub is a webbased hosting service that allows to manage changes over time. It allows to recreate a local folder structure in a repository on GitHub. If one makes a change in a locally stored file, it can be pushed. This also changes the file stored online and various change steps are recorded on GitHub."
   ]
  },
  {
   "cell_type": "markdown",
   "id": "5de47c58",
   "metadata": {},
   "source": [
    "### GitHub Repository"
   ]
  },
  {
   "cell_type": "markdown",
   "id": "43ddce01",
   "metadata": {},
   "source": [
    "The GitHub repository of this project can be found [here](https://github.com/nwiltberg/project_msc05). \n",
    "\n",
    "In addition to the content and various chapters presented here, it also contains all the files that are necessary for the creation of this website. Furthermore, the computational environment used for this project is stored there."
   ]
  },
  {
   "cell_type": "markdown",
   "id": "b2f18908",
   "metadata": {},
   "source": [
    "## Zotero Library "
   ]
  },
  {
   "cell_type": "markdown",
   "id": "040bbd92",
   "metadata": {},
   "source": [
    "All the resources used in this project are stored in a Zotero Library. [Zotero](https://www.zotero.org/) is a free and open-source reference management software designed to help researchers collect, organize, cite, and share their research sources. It can save and organize books, journal articles, websites and other resources and is able to automatically extract metadata from sources like the authors, the title, and the publication dates.\n",
    "\n",
    "The Zotero Library of this project can be found [here](https://osf.io/4ez8h/). This link leads to the corresponding OSF project. [OSF](https://osf.io/) stands for Open Science Framework is an open-source online platform researchers can use to manage projects and register their studies. It can be used to document, archive and share projects, the corresponding material and data."
   ]
  },
  {
   "cell_type": "markdown",
   "id": "b3dd8532",
   "metadata": {},
   "source": [
    "## Open Lab Notebook"
   ]
  },
  {
   "cell_type": "markdown",
   "id": "b05a1d74",
   "metadata": {},
   "source": [
    "An open lab notebook is used to document the procedure of this project. It gives an overview of when which task was completed, where problems occurred and how these problems were dealt with. \n",
    "\n",
    "While there are various ways to set up an open lab notebook, in the present project a file for each calendar week was stored in the GitHub repository. Each file contains the work steps that were processed in the corresponding week.\n",
    "\n",
    "You can find the Open Lab Notebook [in the corresponding folder of the GitHub repository](https://github.com/nwiltberg/project_msc05/tree/main/open_lab_notebook)."
   ]
  },
  {
   "cell_type": "markdown",
   "id": "1df893dc",
   "metadata": {},
   "source": [
    "## Computational Environment"
   ]
  },
  {
   "cell_type": "markdown",
   "id": "11905880",
   "metadata": {},
   "source": [
    "..."
   ]
  }
 ],
 "metadata": {
  "kernelspec": {
   "display_name": "neuro_ai",
   "language": "python",
   "name": "neuro_ai"
  },
  "language_info": {
   "codemirror_mode": {
    "name": "ipython",
    "version": 3
   },
   "file_extension": ".py",
   "mimetype": "text/x-python",
   "name": "python",
   "nbconvert_exporter": "python",
   "pygments_lexer": "ipython3",
   "version": "3.7.0"
  }
 },
 "nbformat": 4,
 "nbformat_minor": 5
}
