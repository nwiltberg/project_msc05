{
 "cells": [
  {
   "cell_type": "code",
   "execution_count": 2,
   "id": "a9bbd248",
   "metadata": {},
   "outputs": [],
   "source": [
    "import nilearn"
   ]
  },
  {
   "cell_type": "code",
   "execution_count": 4,
   "id": "28f30098",
   "metadata": {},
   "outputs": [],
   "source": [
    "from nilearn import datasets\n"
   ]
  },
  {
   "cell_type": "code",
   "execution_count": 14,
   "id": "e357e500",
   "metadata": {},
   "outputs": [
    {
     "name": "stdout",
     "output_type": "stream",
     "text": [
      "\n",
      "Dataset created in /mnt/c/Users/nasta/Desktop/Forschungsmodul/project_msc05/data/adhd\n",
      "\n",
      "Downloading data from https://www.nitrc.org/frs/download.php/7781/adhd40_metadata.tgz ...\n"
     ]
    },
    {
     "name": "stderr",
     "output_type": "stream",
     "text": [
      " ...done. (1 seconds, 0 min)\n",
      "Extracting data from /mnt/c/Users/nasta/Desktop/Forschungsmodul/project_msc05/data/adhd/74a52d3552145e11365bb68453d1a70c/adhd40_metadata.tgz..... done.\n"
     ]
    },
    {
     "name": "stdout",
     "output_type": "stream",
     "text": [
      "Downloading data from https://www.nitrc.org/frs/download.php/7782/adhd40_0010042.tgz ...\n"
     ]
    },
    {
     "name": "stderr",
     "output_type": "stream",
     "text": [
      "Downloaded 33095680 of 44414948 bytes (74.5%,    1.0s remaining) ...done. (4 seconds, 0 min)\n",
      "Extracting data from /mnt/c/Users/nasta/Desktop/Forschungsmodul/project_msc05/data/adhd/166bfb3ae13f7c60c012aa2194eef088/adhd40_0010042.tgz..... done.\n"
     ]
    },
    {
     "name": "stdout",
     "output_type": "stream",
     "text": [
      "Downloading data from https://www.nitrc.org/frs/download.php/7783/adhd40_0010064.tgz ...\n"
     ]
    },
    {
     "name": "stderr",
     "output_type": "stream",
     "text": [
      "Downloaded 32858112 of 45583539 bytes (72.1%,    1.2s remaining) ...done. (4 seconds, 0 min)\n",
      "Extracting data from /mnt/c/Users/nasta/Desktop/Forschungsmodul/project_msc05/data/adhd/166bfb3ae13f7c60c012aa2194eef088/adhd40_0010064.tgz..... done.\n"
     ]
    },
    {
     "name": "stdout",
     "output_type": "stream",
     "text": [
      "Downloading data from https://www.nitrc.org/frs/download.php/7784/adhd40_0010128.tgz ...\n"
     ]
    },
    {
     "name": "stderr",
     "output_type": "stream",
     "text": [
      "Downloaded 39878656 of 45461055 bytes (87.7%,    0.6s remaining) ...done. (5 seconds, 0 min)\n",
      "Extracting data from /mnt/c/Users/nasta/Desktop/Forschungsmodul/project_msc05/data/adhd/166bfb3ae13f7c60c012aa2194eef088/adhd40_0010128.tgz..... done.\n"
     ]
    },
    {
     "name": "stdout",
     "output_type": "stream",
     "text": [
      "Downloading data from https://www.nitrc.org/frs/download.php/7785/adhd40_0021019.tgz ...\n"
     ]
    },
    {
     "name": "stderr",
     "output_type": "stream",
     "text": [
      "Downloaded 43581440 of 46216320 bytes (94.3%,    0.2s remaining) ...done. (5 seconds, 0 min)\n",
      "Extracting data from /mnt/c/Users/nasta/Desktop/Forschungsmodul/project_msc05/data/adhd/166bfb3ae13f7c60c012aa2194eef088/adhd40_0021019.tgz..... done.\n"
     ]
    },
    {
     "name": "stdout",
     "output_type": "stream",
     "text": [
      "Downloading data from https://www.nitrc.org/frs/download.php/7786/adhd40_0023008.tgz ...\n"
     ]
    },
    {
     "name": "stderr",
     "output_type": "stream",
     "text": [
      "Downloaded 14524416 of 20407901 bytes (71.2%,    0.8s remaining) ...done. (3 seconds, 0 min)\n",
      "Extracting data from /mnt/c/Users/nasta/Desktop/Forschungsmodul/project_msc05/data/adhd/166bfb3ae13f7c60c012aa2194eef088/adhd40_0023008.tgz..... done.\n"
     ]
    },
    {
     "name": "stdout",
     "output_type": "stream",
     "text": [
      "Downloading data from https://www.nitrc.org/frs/download.php/7787/adhd40_0023012.tgz ...\n"
     ]
    },
    {
     "name": "stderr",
     "output_type": "stream",
     "text": [
      "Downloaded 20512768 of 20706939 bytes (99.1%,    0.0s remaining) ...done. (2 seconds, 0 min)\n",
      "Extracting data from /mnt/c/Users/nasta/Desktop/Forschungsmodul/project_msc05/data/adhd/166bfb3ae13f7c60c012aa2194eef088/adhd40_0023012.tgz..... done.\n"
     ]
    },
    {
     "name": "stdout",
     "output_type": "stream",
     "text": [
      "Downloading data from https://www.nitrc.org/frs/download.php/7788/adhd40_0027011.tgz ...\n"
     ]
    },
    {
     "name": "stderr",
     "output_type": "stream",
     "text": [
      "Downloaded 70393856 of 72402326 bytes (97.2%,    0.2s remaining) ...done. (6 seconds, 0 min)\n",
      "Extracting data from /mnt/c/Users/nasta/Desktop/Forschungsmodul/project_msc05/data/adhd/166bfb3ae13f7c60c012aa2194eef088/adhd40_0027011.tgz..... done.\n"
     ]
    },
    {
     "name": "stdout",
     "output_type": "stream",
     "text": [
      "Downloading data from https://www.nitrc.org/frs/download.php/7789/adhd40_0027018.tgz ...\n"
     ]
    },
    {
     "name": "stderr",
     "output_type": "stream",
     "text": [
      "Downloaded 71696384 of 76184603 bytes (94.1%,    0.5s remaining) ...done. (9 seconds, 0 min)\n",
      "Extracting data from /mnt/c/Users/nasta/Desktop/Forschungsmodul/project_msc05/data/adhd/166bfb3ae13f7c60c012aa2194eef088/adhd40_0027018.tgz..... done.\n"
     ]
    },
    {
     "name": "stdout",
     "output_type": "stream",
     "text": [
      "Downloading data from https://www.nitrc.org/frs/download.php/7790/adhd40_0027034.tgz ...\n"
     ]
    },
    {
     "name": "stderr",
     "output_type": "stream",
     "text": [
      "Downloaded 65093632 of 70074120 bytes (92.9%,    0.5s remaining) ...done. (7 seconds, 0 min)\n",
      "Extracting data from /mnt/c/Users/nasta/Desktop/Forschungsmodul/project_msc05/data/adhd/166bfb3ae13f7c60c012aa2194eef088/adhd40_0027034.tgz..... done.\n"
     ]
    },
    {
     "name": "stdout",
     "output_type": "stream",
     "text": [
      "Downloading data from https://www.nitrc.org/frs/download.php/7791/adhd40_0027037.tgz ...\n"
     ]
    },
    {
     "name": "stderr",
     "output_type": "stream",
     "text": [
      "Downloaded 66715648 of 69291635 bytes (96.3%,    0.3s remaining) ...done. (8 seconds, 0 min)\n",
      "Extracting data from /mnt/c/Users/nasta/Desktop/Forschungsmodul/project_msc05/data/adhd/166bfb3ae13f7c60c012aa2194eef088/adhd40_0027037.tgz..... done.\n"
     ]
    },
    {
     "name": "stdout",
     "output_type": "stream",
     "text": [
      "Downloading data from https://www.nitrc.org/frs/download.php/7792/adhd40_1019436.tgz ...\n"
     ]
    },
    {
     "name": "stderr",
     "output_type": "stream",
     "text": [
      "Downloaded 31899648 of 41803342 bytes (76.3%,    0.9s remaining) ...done. (4 seconds, 0 min)\n",
      "Extracting data from /mnt/c/Users/nasta/Desktop/Forschungsmodul/project_msc05/data/adhd/166bfb3ae13f7c60c012aa2194eef088/adhd40_1019436.tgz..... done.\n"
     ]
    },
    {
     "name": "stdout",
     "output_type": "stream",
     "text": [
      "Downloading data from https://www.nitrc.org/frs/download.php/7793/adhd40_1206380.tgz ...\n"
     ]
    },
    {
     "name": "stderr",
     "output_type": "stream",
     "text": [
      "Downloaded 14458880 of 20763649 bytes (69.6%,    0.9s remaining) ...done. (3 seconds, 0 min)\n",
      "Extracting data from /mnt/c/Users/nasta/Desktop/Forschungsmodul/project_msc05/data/adhd/166bfb3ae13f7c60c012aa2194eef088/adhd40_1206380.tgz..... done.\n"
     ]
    },
    {
     "name": "stdout",
     "output_type": "stream",
     "text": [
      "Downloading data from https://www.nitrc.org/frs/download.php/7794/adhd40_1418396.tgz ...\n"
     ]
    },
    {
     "name": "stderr",
     "output_type": "stream",
     "text": [
      "Downloaded 10248192 of 20168043 bytes (50.8%,    1.0s remaining) ...done. (2 seconds, 0 min)\n",
      "Extracting data from /mnt/c/Users/nasta/Desktop/Forschungsmodul/project_msc05/data/adhd/166bfb3ae13f7c60c012aa2194eef088/adhd40_1418396.tgz..... done.\n"
     ]
    },
    {
     "name": "stdout",
     "output_type": "stream",
     "text": [
      "Downloading data from https://www.nitrc.org/frs/download.php/7795/adhd40_1517058.tgz ...\n"
     ]
    },
    {
     "name": "stderr",
     "output_type": "stream",
     "text": [
      "Downloaded 57434112 of 62682233 bytes (91.6%,    0.5s remaining) ...done. (7 seconds, 0 min)\n",
      "Extracting data from /mnt/c/Users/nasta/Desktop/Forschungsmodul/project_msc05/data/adhd/166bfb3ae13f7c60c012aa2194eef088/adhd40_1517058.tgz..... done.\n"
     ]
    },
    {
     "name": "stdout",
     "output_type": "stream",
     "text": [
      "Downloading data from https://www.nitrc.org/frs/download.php/7796/adhd40_1552181.tgz ...\n"
     ]
    },
    {
     "name": "stderr",
     "output_type": "stream",
     "text": [
      "Downloaded 17481728 of 20196558 bytes (86.6%,    0.3s remaining) ...done. (3 seconds, 0 min)\n",
      "Extracting data from /mnt/c/Users/nasta/Desktop/Forschungsmodul/project_msc05/data/adhd/166bfb3ae13f7c60c012aa2194eef088/adhd40_1552181.tgz..... done.\n"
     ]
    },
    {
     "name": "stdout",
     "output_type": "stream",
     "text": [
      "Downloading data from https://www.nitrc.org/frs/download.php/7797/adhd40_1562298.tgz ...\n"
     ]
    },
    {
     "name": "stderr",
     "output_type": "stream",
     "text": [
      "Downloaded 59441152 of 60663491 bytes (98.0%,    0.1s remaining) ...done. (6 seconds, 0 min)\n",
      "Extracting data from /mnt/c/Users/nasta/Desktop/Forschungsmodul/project_msc05/data/adhd/166bfb3ae13f7c60c012aa2194eef088/adhd40_1562298.tgz..... done.\n"
     ]
    },
    {
     "name": "stdout",
     "output_type": "stream",
     "text": [
      "Downloading data from https://www.nitrc.org/frs/download.php/7798/adhd40_1679142.tgz ...\n"
     ]
    },
    {
     "name": "stderr",
     "output_type": "stream",
     "text": [
      "Downloaded 17661952 of 20628764 bytes (85.6%,    0.3s remaining) ...done. (3 seconds, 0 min)\n",
      "Extracting data from /mnt/c/Users/nasta/Desktop/Forschungsmodul/project_msc05/data/adhd/166bfb3ae13f7c60c012aa2194eef088/adhd40_1679142.tgz..... done.\n"
     ]
    },
    {
     "name": "stdout",
     "output_type": "stream",
     "text": [
      "Downloading data from https://www.nitrc.org/frs/download.php/7799/adhd40_2014113.tgz ...\n"
     ]
    },
    {
     "name": "stderr",
     "output_type": "stream",
     "text": [
      "Downloaded 31866880 of 33119052 bytes (96.2%,    0.1s remaining) ...done. (3 seconds, 0 min)\n",
      "Extracting data from /mnt/c/Users/nasta/Desktop/Forschungsmodul/project_msc05/data/adhd/166bfb3ae13f7c60c012aa2194eef088/adhd40_2014113.tgz..... done.\n"
     ]
    },
    {
     "name": "stdout",
     "output_type": "stream",
     "text": [
      "Downloading data from https://www.nitrc.org/frs/download.php/7800/adhd40_2497695.tgz ...\n"
     ]
    },
    {
     "name": "stderr",
     "output_type": "stream",
     "text": [
      "Downloaded 40689664 of 45455025 bytes (89.5%,    0.6s remaining) ...done. (6 seconds, 0 min)\n",
      "Extracting data from /mnt/c/Users/nasta/Desktop/Forschungsmodul/project_msc05/data/adhd/166bfb3ae13f7c60c012aa2194eef088/adhd40_2497695.tgz..... done.\n"
     ]
    },
    {
     "name": "stdout",
     "output_type": "stream",
     "text": [
      "Downloading data from https://www.nitrc.org/frs/download.php/7801/adhd40_2950754.tgz ...\n"
     ]
    },
    {
     "name": "stderr",
     "output_type": "stream",
     "text": [
      "Downloaded 53911552 of 57992968 bytes (93.0%,    0.4s remaining) ...done. (6 seconds, 0 min)\n",
      "Extracting data from /mnt/c/Users/nasta/Desktop/Forschungsmodul/project_msc05/data/adhd/166bfb3ae13f7c60c012aa2194eef088/adhd40_2950754.tgz..... done.\n"
     ]
    },
    {
     "name": "stdout",
     "output_type": "stream",
     "text": [
      "Downloading data from https://www.nitrc.org/frs/download.php/7802/adhd40_3007585.tgz ...\n"
     ]
    },
    {
     "name": "stderr",
     "output_type": "stream",
     "text": [
      "Downloaded 67846144 of 67925261 bytes (99.9%,    0.0s remaining) ...done. (8 seconds, 0 min)\n",
      "Extracting data from /mnt/c/Users/nasta/Desktop/Forschungsmodul/project_msc05/data/adhd/166bfb3ae13f7c60c012aa2194eef088/adhd40_3007585.tgz..... done.\n"
     ]
    },
    {
     "name": "stdout",
     "output_type": "stream",
     "text": [
      "Downloading data from https://www.nitrc.org/frs/download.php/7803/adhd40_3154996.tgz ...\n"
     ]
    },
    {
     "name": "stderr",
     "output_type": "stream",
     "text": [
      "Downloaded 21553152 of 32919780 bytes (65.5%,    1.6s remaining) ...done. (4 seconds, 0 min)\n",
      "Extracting data from /mnt/c/Users/nasta/Desktop/Forschungsmodul/project_msc05/data/adhd/166bfb3ae13f7c60c012aa2194eef088/adhd40_3154996.tgz..... done.\n"
     ]
    },
    {
     "name": "stdout",
     "output_type": "stream",
     "text": [
      "Downloading data from https://www.nitrc.org/frs/download.php/7804/adhd40_3205761.tgz ...\n"
     ]
    },
    {
     "name": "stderr",
     "output_type": "stream",
     "text": [
      "Downloaded 54099968 of 59835286 bytes (90.4%,    0.5s remaining) ...done. (6 seconds, 0 min)\n",
      "Extracting data from /mnt/c/Users/nasta/Desktop/Forschungsmodul/project_msc05/data/adhd/166bfb3ae13f7c60c012aa2194eef088/adhd40_3205761.tgz..... done.\n"
     ]
    },
    {
     "name": "stdout",
     "output_type": "stream",
     "text": [
      "Downloading data from https://www.nitrc.org/frs/download.php/7805/adhd40_3520880.tgz ...\n"
     ]
    },
    {
     "name": "stderr",
     "output_type": "stream",
     "text": [
      "Downloaded 55164928 of 61857076 bytes (89.2%,    0.6s remaining) ...done. (6 seconds, 0 min)\n",
      "Extracting data from /mnt/c/Users/nasta/Desktop/Forschungsmodul/project_msc05/data/adhd/166bfb3ae13f7c60c012aa2194eef088/adhd40_3520880.tgz..... done.\n"
     ]
    },
    {
     "name": "stdout",
     "output_type": "stream",
     "text": [
      "Downloading data from https://www.nitrc.org/frs/download.php/7806/adhd40_3624598.tgz ...\n"
     ]
    },
    {
     "name": "stderr",
     "output_type": "stream",
     "text": [
      "Downloaded 55738368 of 59385206 bytes (93.9%,    0.5s remaining) ...done. (9 seconds, 0 min)\n",
      "Extracting data from /mnt/c/Users/nasta/Desktop/Forschungsmodul/project_msc05/data/adhd/166bfb3ae13f7c60c012aa2194eef088/adhd40_3624598.tgz..... done.\n"
     ]
    },
    {
     "name": "stdout",
     "output_type": "stream",
     "text": [
      "Downloading data from https://www.nitrc.org/frs/download.php/7807/adhd40_3699991.tgz ...\n"
     ]
    },
    {
     "name": "stderr",
     "output_type": "stream",
     "text": [
      "Downloaded 34963456 of 41518251 bytes (84.2%,    0.9s remaining) ...done. (6 seconds, 0 min)\n",
      "Extracting data from /mnt/c/Users/nasta/Desktop/Forschungsmodul/project_msc05/data/adhd/166bfb3ae13f7c60c012aa2194eef088/adhd40_3699991.tgz..... done.\n"
     ]
    },
    {
     "name": "stdout",
     "output_type": "stream",
     "text": [
      "Downloading data from https://www.nitrc.org/frs/download.php/7808/adhd40_3884955.tgz ...\n"
     ]
    },
    {
     "name": "stderr",
     "output_type": "stream",
     "text": [
      "Downloaded 29270016 of 32108848 bytes (91.2%,    0.3s remaining) ...done. (4 seconds, 0 min)\n",
      "Extracting data from /mnt/c/Users/nasta/Desktop/Forschungsmodul/project_msc05/data/adhd/166bfb3ae13f7c60c012aa2194eef088/adhd40_3884955.tgz..... done.\n"
     ]
    },
    {
     "name": "stdout",
     "output_type": "stream",
     "text": [
      "Downloading data from https://www.nitrc.org/frs/download.php/7809/adhd40_3902469.tgz ...\n"
     ]
    },
    {
     "name": "stderr",
     "output_type": "stream",
     "text": [
      "Downloaded 38748160 of 39415752 bytes (98.3%,    0.1s remaining) ...done. (5 seconds, 0 min)\n",
      "Extracting data from /mnt/c/Users/nasta/Desktop/Forschungsmodul/project_msc05/data/adhd/166bfb3ae13f7c60c012aa2194eef088/adhd40_3902469.tgz..... done.\n"
     ]
    },
    {
     "name": "stdout",
     "output_type": "stream",
     "text": [
      "Downloading data from https://www.nitrc.org/frs/download.php/7810/adhd40_3994098.tgz ...\n"
     ]
    },
    {
     "name": "stderr",
     "output_type": "stream",
     "text": [
      "Downloaded 52371456 of 59297020 bytes (88.3%,    0.7s remaining) ...done. (6 seconds, 0 min)\n",
      "Extracting data from /mnt/c/Users/nasta/Desktop/Forschungsmodul/project_msc05/data/adhd/166bfb3ae13f7c60c012aa2194eef088/adhd40_3994098.tgz..... done.\n"
     ]
    },
    {
     "name": "stdout",
     "output_type": "stream",
     "text": [
      "Downloading data from https://www.nitrc.org/frs/download.php/7811/adhd40_4016887.tgz ...\n"
     ]
    },
    {
     "name": "stderr",
     "output_type": "stream",
     "text": [
      "Downloaded 17760256 of 20157314 bytes (88.1%,    0.3s remaining) ...done. (3 seconds, 0 min)\n",
      "Extracting data from /mnt/c/Users/nasta/Desktop/Forschungsmodul/project_msc05/data/adhd/166bfb3ae13f7c60c012aa2194eef088/adhd40_4016887.tgz..... done.\n"
     ]
    },
    {
     "name": "stdout",
     "output_type": "stream",
     "text": [
      "Downloading data from https://www.nitrc.org/frs/download.php/7812/adhd40_4046678.tgz ...\n"
     ]
    },
    {
     "name": "stderr",
     "output_type": "stream",
     "text": [
      "Downloaded 9846784 of 21375806 bytes (46.1%,    1.2s remaining) ...done. (2 seconds, 0 min)\n",
      "Extracting data from /mnt/c/Users/nasta/Desktop/Forschungsmodul/project_msc05/data/adhd/166bfb3ae13f7c60c012aa2194eef088/adhd40_4046678.tgz..... done.\n"
     ]
    },
    {
     "name": "stdout",
     "output_type": "stream",
     "text": [
      "Downloading data from https://www.nitrc.org/frs/download.php/7813/adhd40_4134561.tgz ...\n"
     ]
    },
    {
     "name": "stderr",
     "output_type": "stream",
     "text": [
      "Downloaded 61833216 of 69914913 bytes (88.4%,    0.8s remaining) ...done. (7 seconds, 0 min)\n",
      "Extracting data from /mnt/c/Users/nasta/Desktop/Forschungsmodul/project_msc05/data/adhd/166bfb3ae13f7c60c012aa2194eef088/adhd40_4134561.tgz..... done.\n"
     ]
    },
    {
     "name": "stdout",
     "output_type": "stream",
     "text": [
      "Downloading data from https://www.nitrc.org/frs/download.php/7814/adhd40_4164316.tgz ...\n"
     ]
    },
    {
     "name": "stderr",
     "output_type": "stream",
     "text": [
      "Downloaded 38240256 of 45506732 bytes (84.0%,    0.8s remaining) ...done. (5 seconds, 0 min)\n",
      "Extracting data from /mnt/c/Users/nasta/Desktop/Forschungsmodul/project_msc05/data/adhd/166bfb3ae13f7c60c012aa2194eef088/adhd40_4164316.tgz..... done.\n"
     ]
    },
    {
     "name": "stdout",
     "output_type": "stream",
     "text": [
      "Downloading data from https://www.nitrc.org/frs/download.php/7815/adhd40_4275075.tgz ...\n"
     ]
    },
    {
     "name": "stderr",
     "output_type": "stream",
     "text": [
      "Downloaded 30072832 of 32363673 bytes (92.9%,    0.2s remaining) ...done. (4 seconds, 0 min)\n",
      "Extracting data from /mnt/c/Users/nasta/Desktop/Forschungsmodul/project_msc05/data/adhd/166bfb3ae13f7c60c012aa2194eef088/adhd40_4275075.tgz..... done.\n"
     ]
    },
    {
     "name": "stdout",
     "output_type": "stream",
     "text": [
      "Downloading data from https://www.nitrc.org/frs/download.php/7816/adhd40_6115230.tgz ...\n"
     ]
    },
    {
     "name": "stderr",
     "output_type": "stream",
     "text": [
      "Downloaded 70623232 of 73484949 bytes (96.1%,    0.3s remaining) ...done. (8 seconds, 0 min)\n",
      "Extracting data from /mnt/c/Users/nasta/Desktop/Forschungsmodul/project_msc05/data/adhd/166bfb3ae13f7c60c012aa2194eef088/adhd40_6115230.tgz..... done.\n"
     ]
    },
    {
     "name": "stdout",
     "output_type": "stream",
     "text": [
      "Downloading data from https://www.nitrc.org/frs/download.php/7817/adhd40_7774305.tgz ...\n"
     ]
    },
    {
     "name": "stderr",
     "output_type": "stream",
     "text": [
      "Downloaded 42090496 of 42188959 bytes (99.8%,    0.0s remaining) ...done. (5 seconds, 0 min)\n",
      "Extracting data from /mnt/c/Users/nasta/Desktop/Forschungsmodul/project_msc05/data/adhd/166bfb3ae13f7c60c012aa2194eef088/adhd40_7774305.tgz..... done.\n"
     ]
    },
    {
     "name": "stdout",
     "output_type": "stream",
     "text": [
      "Downloading data from https://www.nitrc.org/frs/download.php/7818/adhd40_8409791.tgz ...\n"
     ]
    },
    {
     "name": "stderr",
     "output_type": "stream",
     "text": [
      "Downloaded 65511424 of 70396354 bytes (93.1%,    0.4s remaining) ...done. (7 seconds, 0 min)\n",
      "Extracting data from /mnt/c/Users/nasta/Desktop/Forschungsmodul/project_msc05/data/adhd/166bfb3ae13f7c60c012aa2194eef088/adhd40_8409791.tgz..... done.\n"
     ]
    },
    {
     "name": "stdout",
     "output_type": "stream",
     "text": [
      "Downloading data from https://www.nitrc.org/frs/download.php/7819/adhd40_8697774.tgz ...\n"
     ]
    },
    {
     "name": "stderr",
     "output_type": "stream",
     "text": [
      "Downloaded 39682048 of 45075978 bytes (88.0%,    0.5s remaining) ...done. (5 seconds, 0 min)\n",
      "Extracting data from /mnt/c/Users/nasta/Desktop/Forschungsmodul/project_msc05/data/adhd/166bfb3ae13f7c60c012aa2194eef088/adhd40_8697774.tgz..... done.\n"
     ]
    },
    {
     "name": "stdout",
     "output_type": "stream",
     "text": [
      "Downloading data from https://www.nitrc.org/frs/download.php/7820/adhd40_9744150.tgz ...\n"
     ]
    },
    {
     "name": "stderr",
     "output_type": "stream",
     "text": [
      "Downloaded 51945472 of 63380505 bytes (82.0%,    1.1s remaining) ...done. (6 seconds, 0 min)\n",
      "Extracting data from /mnt/c/Users/nasta/Desktop/Forschungsmodul/project_msc05/data/adhd/166bfb3ae13f7c60c012aa2194eef088/adhd40_9744150.tgz..... done.\n"
     ]
    },
    {
     "name": "stdout",
     "output_type": "stream",
     "text": [
      "Downloading data from https://www.nitrc.org/frs/download.php/7821/adhd40_9750701.tgz ...\n"
     ]
    },
    {
     "name": "stderr",
     "output_type": "stream",
     "text": [
      "Downloaded 42876928 of 46607053 bytes (92.0%,    0.3s remaining) ...done. (5 seconds, 0 min)\n",
      "Extracting data from /mnt/c/Users/nasta/Desktop/Forschungsmodul/project_msc05/data/adhd/166bfb3ae13f7c60c012aa2194eef088/adhd40_9750701.tgz..... done.\n"
     ]
    },
    {
     "data": {
      "text/plain": [
       "{'func': ['/mnt/c/Users/nasta/Desktop/Forschungsmodul/project_msc05/data/adhd/data/0010042/0010042_rest_tshift_RPI_voreg_mni.nii.gz',\n",
       "  '/mnt/c/Users/nasta/Desktop/Forschungsmodul/project_msc05/data/adhd/data/0010064/0010064_rest_tshift_RPI_voreg_mni.nii.gz',\n",
       "  '/mnt/c/Users/nasta/Desktop/Forschungsmodul/project_msc05/data/adhd/data/0010128/0010128_rest_tshift_RPI_voreg_mni.nii.gz',\n",
       "  '/mnt/c/Users/nasta/Desktop/Forschungsmodul/project_msc05/data/adhd/data/0021019/0021019_rest_tshift_RPI_voreg_mni.nii.gz',\n",
       "  '/mnt/c/Users/nasta/Desktop/Forschungsmodul/project_msc05/data/adhd/data/0023008/0023008_rest_tshift_RPI_voreg_mni.nii.gz',\n",
       "  '/mnt/c/Users/nasta/Desktop/Forschungsmodul/project_msc05/data/adhd/data/0023012/0023012_rest_tshift_RPI_voreg_mni.nii.gz',\n",
       "  '/mnt/c/Users/nasta/Desktop/Forschungsmodul/project_msc05/data/adhd/data/0027011/0027011_rest_tshift_RPI_voreg_mni.nii.gz',\n",
       "  '/mnt/c/Users/nasta/Desktop/Forschungsmodul/project_msc05/data/adhd/data/0027018/0027018_rest_tshift_RPI_voreg_mni.nii.gz',\n",
       "  '/mnt/c/Users/nasta/Desktop/Forschungsmodul/project_msc05/data/adhd/data/0027034/0027034_rest_tshift_RPI_voreg_mni.nii.gz',\n",
       "  '/mnt/c/Users/nasta/Desktop/Forschungsmodul/project_msc05/data/adhd/data/0027037/0027037_rest_tshift_RPI_voreg_mni.nii.gz',\n",
       "  '/mnt/c/Users/nasta/Desktop/Forschungsmodul/project_msc05/data/adhd/data/1019436/1019436_rest_tshift_RPI_voreg_mni.nii.gz',\n",
       "  '/mnt/c/Users/nasta/Desktop/Forschungsmodul/project_msc05/data/adhd/data/1206380/1206380_rest_tshift_RPI_voreg_mni.nii.gz',\n",
       "  '/mnt/c/Users/nasta/Desktop/Forschungsmodul/project_msc05/data/adhd/data/1418396/1418396_rest_tshift_RPI_voreg_mni.nii.gz',\n",
       "  '/mnt/c/Users/nasta/Desktop/Forschungsmodul/project_msc05/data/adhd/data/1517058/1517058_rest_tshift_RPI_voreg_mni.nii.gz',\n",
       "  '/mnt/c/Users/nasta/Desktop/Forschungsmodul/project_msc05/data/adhd/data/1552181/1552181_rest_tshift_RPI_voreg_mni.nii.gz',\n",
       "  '/mnt/c/Users/nasta/Desktop/Forschungsmodul/project_msc05/data/adhd/data/1562298/1562298_rest_tshift_RPI_voreg_mni.nii.gz',\n",
       "  '/mnt/c/Users/nasta/Desktop/Forschungsmodul/project_msc05/data/adhd/data/1679142/1679142_rest_tshift_RPI_voreg_mni.nii.gz',\n",
       "  '/mnt/c/Users/nasta/Desktop/Forschungsmodul/project_msc05/data/adhd/data/2014113/2014113_rest_tshift_RPI_voreg_mni.nii.gz',\n",
       "  '/mnt/c/Users/nasta/Desktop/Forschungsmodul/project_msc05/data/adhd/data/2497695/2497695_rest_tshift_RPI_voreg_mni.nii.gz',\n",
       "  '/mnt/c/Users/nasta/Desktop/Forschungsmodul/project_msc05/data/adhd/data/2950754/2950754_rest_tshift_RPI_voreg_mni.nii.gz',\n",
       "  '/mnt/c/Users/nasta/Desktop/Forschungsmodul/project_msc05/data/adhd/data/3007585/3007585_rest_tshift_RPI_voreg_mni.nii.gz',\n",
       "  '/mnt/c/Users/nasta/Desktop/Forschungsmodul/project_msc05/data/adhd/data/3154996/3154996_rest_tshift_RPI_voreg_mni.nii.gz',\n",
       "  '/mnt/c/Users/nasta/Desktop/Forschungsmodul/project_msc05/data/adhd/data/3205761/3205761_rest_tshift_RPI_voreg_mni.nii.gz',\n",
       "  '/mnt/c/Users/nasta/Desktop/Forschungsmodul/project_msc05/data/adhd/data/3520880/3520880_rest_tshift_RPI_voreg_mni.nii.gz',\n",
       "  '/mnt/c/Users/nasta/Desktop/Forschungsmodul/project_msc05/data/adhd/data/3624598/3624598_rest_tshift_RPI_voreg_mni.nii.gz',\n",
       "  '/mnt/c/Users/nasta/Desktop/Forschungsmodul/project_msc05/data/adhd/data/3699991/3699991_rest_tshift_RPI_voreg_mni.nii.gz',\n",
       "  '/mnt/c/Users/nasta/Desktop/Forschungsmodul/project_msc05/data/adhd/data/3884955/3884955_rest_tshift_RPI_voreg_mni.nii.gz',\n",
       "  '/mnt/c/Users/nasta/Desktop/Forschungsmodul/project_msc05/data/adhd/data/3902469/3902469_rest_tshift_RPI_voreg_mni.nii.gz',\n",
       "  '/mnt/c/Users/nasta/Desktop/Forschungsmodul/project_msc05/data/adhd/data/3994098/3994098_rest_tshift_RPI_voreg_mni.nii.gz',\n",
       "  '/mnt/c/Users/nasta/Desktop/Forschungsmodul/project_msc05/data/adhd/data/4016887/4016887_rest_tshift_RPI_voreg_mni.nii.gz',\n",
       "  '/mnt/c/Users/nasta/Desktop/Forschungsmodul/project_msc05/data/adhd/data/4046678/4046678_rest_tshift_RPI_voreg_mni.nii.gz',\n",
       "  '/mnt/c/Users/nasta/Desktop/Forschungsmodul/project_msc05/data/adhd/data/4134561/4134561_rest_tshift_RPI_voreg_mni.nii.gz',\n",
       "  '/mnt/c/Users/nasta/Desktop/Forschungsmodul/project_msc05/data/adhd/data/4164316/4164316_rest_tshift_RPI_voreg_mni.nii.gz',\n",
       "  '/mnt/c/Users/nasta/Desktop/Forschungsmodul/project_msc05/data/adhd/data/4275075/4275075_rest_tshift_RPI_voreg_mni.nii.gz',\n",
       "  '/mnt/c/Users/nasta/Desktop/Forschungsmodul/project_msc05/data/adhd/data/6115230/6115230_rest_tshift_RPI_voreg_mni.nii.gz',\n",
       "  '/mnt/c/Users/nasta/Desktop/Forschungsmodul/project_msc05/data/adhd/data/7774305/7774305_rest_tshift_RPI_voreg_mni.nii.gz',\n",
       "  '/mnt/c/Users/nasta/Desktop/Forschungsmodul/project_msc05/data/adhd/data/8409791/8409791_rest_tshift_RPI_voreg_mni.nii.gz',\n",
       "  '/mnt/c/Users/nasta/Desktop/Forschungsmodul/project_msc05/data/adhd/data/8697774/8697774_rest_tshift_RPI_voreg_mni.nii.gz',\n",
       "  '/mnt/c/Users/nasta/Desktop/Forschungsmodul/project_msc05/data/adhd/data/9744150/9744150_rest_tshift_RPI_voreg_mni.nii.gz',\n",
       "  '/mnt/c/Users/nasta/Desktop/Forschungsmodul/project_msc05/data/adhd/data/9750701/9750701_rest_tshift_RPI_voreg_mni.nii.gz'],\n",
       " 'confounds': ['/mnt/c/Users/nasta/Desktop/Forschungsmodul/project_msc05/data/adhd/data/0010042/0010042_regressors.csv',\n",
       "  '/mnt/c/Users/nasta/Desktop/Forschungsmodul/project_msc05/data/adhd/data/0010064/0010064_regressors.csv',\n",
       "  '/mnt/c/Users/nasta/Desktop/Forschungsmodul/project_msc05/data/adhd/data/0010128/0010128_regressors.csv',\n",
       "  '/mnt/c/Users/nasta/Desktop/Forschungsmodul/project_msc05/data/adhd/data/0021019/0021019_regressors.csv',\n",
       "  '/mnt/c/Users/nasta/Desktop/Forschungsmodul/project_msc05/data/adhd/data/0023008/0023008_regressors.csv',\n",
       "  '/mnt/c/Users/nasta/Desktop/Forschungsmodul/project_msc05/data/adhd/data/0023012/0023012_regressors.csv',\n",
       "  '/mnt/c/Users/nasta/Desktop/Forschungsmodul/project_msc05/data/adhd/data/0027011/0027011_regressors.csv',\n",
       "  '/mnt/c/Users/nasta/Desktop/Forschungsmodul/project_msc05/data/adhd/data/0027018/0027018_regressors.csv',\n",
       "  '/mnt/c/Users/nasta/Desktop/Forschungsmodul/project_msc05/data/adhd/data/0027034/0027034_regressors.csv',\n",
       "  '/mnt/c/Users/nasta/Desktop/Forschungsmodul/project_msc05/data/adhd/data/0027037/0027037_regressors.csv',\n",
       "  '/mnt/c/Users/nasta/Desktop/Forschungsmodul/project_msc05/data/adhd/data/1019436/1019436_regressors.csv',\n",
       "  '/mnt/c/Users/nasta/Desktop/Forschungsmodul/project_msc05/data/adhd/data/1206380/1206380_regressors.csv',\n",
       "  '/mnt/c/Users/nasta/Desktop/Forschungsmodul/project_msc05/data/adhd/data/1418396/1418396_regressors.csv',\n",
       "  '/mnt/c/Users/nasta/Desktop/Forschungsmodul/project_msc05/data/adhd/data/1517058/1517058_regressors.csv',\n",
       "  '/mnt/c/Users/nasta/Desktop/Forschungsmodul/project_msc05/data/adhd/data/1552181/1552181_regressors.csv',\n",
       "  '/mnt/c/Users/nasta/Desktop/Forschungsmodul/project_msc05/data/adhd/data/1562298/1562298_regressors.csv',\n",
       "  '/mnt/c/Users/nasta/Desktop/Forschungsmodul/project_msc05/data/adhd/data/1679142/1679142_regressors.csv',\n",
       "  '/mnt/c/Users/nasta/Desktop/Forschungsmodul/project_msc05/data/adhd/data/2014113/2014113_regressors.csv',\n",
       "  '/mnt/c/Users/nasta/Desktop/Forschungsmodul/project_msc05/data/adhd/data/2497695/2497695_regressors.csv',\n",
       "  '/mnt/c/Users/nasta/Desktop/Forschungsmodul/project_msc05/data/adhd/data/2950754/2950754_regressors.csv',\n",
       "  '/mnt/c/Users/nasta/Desktop/Forschungsmodul/project_msc05/data/adhd/data/3007585/3007585_regressors.csv',\n",
       "  '/mnt/c/Users/nasta/Desktop/Forschungsmodul/project_msc05/data/adhd/data/3154996/3154996_regressors.csv',\n",
       "  '/mnt/c/Users/nasta/Desktop/Forschungsmodul/project_msc05/data/adhd/data/3205761/3205761_regressors.csv',\n",
       "  '/mnt/c/Users/nasta/Desktop/Forschungsmodul/project_msc05/data/adhd/data/3520880/3520880_regressors.csv',\n",
       "  '/mnt/c/Users/nasta/Desktop/Forschungsmodul/project_msc05/data/adhd/data/3624598/3624598_regressors.csv',\n",
       "  '/mnt/c/Users/nasta/Desktop/Forschungsmodul/project_msc05/data/adhd/data/3699991/3699991_regressors.csv',\n",
       "  '/mnt/c/Users/nasta/Desktop/Forschungsmodul/project_msc05/data/adhd/data/3884955/3884955_regressors.csv',\n",
       "  '/mnt/c/Users/nasta/Desktop/Forschungsmodul/project_msc05/data/adhd/data/3902469/3902469_regressors.csv',\n",
       "  '/mnt/c/Users/nasta/Desktop/Forschungsmodul/project_msc05/data/adhd/data/3994098/3994098_regressors.csv',\n",
       "  '/mnt/c/Users/nasta/Desktop/Forschungsmodul/project_msc05/data/adhd/data/4016887/4016887_regressors.csv',\n",
       "  '/mnt/c/Users/nasta/Desktop/Forschungsmodul/project_msc05/data/adhd/data/4046678/4046678_regressors.csv',\n",
       "  '/mnt/c/Users/nasta/Desktop/Forschungsmodul/project_msc05/data/adhd/data/4134561/4134561_regressors.csv',\n",
       "  '/mnt/c/Users/nasta/Desktop/Forschungsmodul/project_msc05/data/adhd/data/4164316/4164316_regressors.csv',\n",
       "  '/mnt/c/Users/nasta/Desktop/Forschungsmodul/project_msc05/data/adhd/data/4275075/4275075_regressors.csv',\n",
       "  '/mnt/c/Users/nasta/Desktop/Forschungsmodul/project_msc05/data/adhd/data/6115230/6115230_regressors.csv',\n",
       "  '/mnt/c/Users/nasta/Desktop/Forschungsmodul/project_msc05/data/adhd/data/7774305/7774305_regressors.csv',\n",
       "  '/mnt/c/Users/nasta/Desktop/Forschungsmodul/project_msc05/data/adhd/data/8409791/8409791_regressors.csv',\n",
       "  '/mnt/c/Users/nasta/Desktop/Forschungsmodul/project_msc05/data/adhd/data/8697774/8697774_regressors.csv',\n",
       "  '/mnt/c/Users/nasta/Desktop/Forschungsmodul/project_msc05/data/adhd/data/9744150/9744150_regressors.csv',\n",
       "  '/mnt/c/Users/nasta/Desktop/Forschungsmodul/project_msc05/data/adhd/data/9750701/9750701_regressors.csv'],\n",
       " 'phenotypic': array([(b'\"21\"',   10042, b'\"rest_1\"', 0.0559,  0, 0.2365, 0.0922,  0.    ,  2.2915, 1.0089, b'\"NYU\"', b'NA', b'\"data_set\"', 10.65      , b'\"M\"', b'\"0.91\"', b'NA', b'108', b'100', b'115', b'2', 0, 1, b'NA', b'NA', b'NA', b'\"\"', b'\"\"', b'\"\"', b'NA', b'NA', b'NA', b'NA', b'NA', b'NA', b'NA', b'NA', b'NA', b'NA', b'NA', b'59', b'56', b'65', b'NA', b'\"pass\"', b'\"\"', b'\"pass\"', b'\"\"', b'\"\"', b'\"\"', b'NA', b'NA', b'NA', b'NA', b'NA', b'NA', b'\"pass\"', b'NA', b'NA', b'NA', b'NA', b'NA', b'NA', b'\"\"', b'\"\"'),\n",
       "        (b'\"19\"',   10064, b'\"rest_1\"', 0.0623,  0, 0.2496, 0.0926,  0.    ,  2.0866, 0.9943, b'\"NYU\"', b'NA', b'\"data_set\"', 15.9       , b'\"M\"', b'\"0.76\"', b'NA', b'101', b'95', b'107', b'2', 0, 1, b'NA', b'NA', b'NA', b'\"\"', b'\"\"', b'\"pass\"', b'NA', b'NA', b'NA', b'NA', b'NA', b'NA', b'NA', b'NA', b'NA', b'NA', b'NA', b'81', b'90', b'81', b'NA', b'\"pass\"', b'\"closed\"', b'\"\"', b'\"\"', b'\"\"', b'\"\"', b'NA', b'NA', b'NA', b'NA', b'NA', b'NA', b'\"pass\"', b'NA', b'NA', b'NA', b'NA', b'NA', b'NA', b'\"\"', b'\"\"'),\n",
       "        (b'\"22\"',   10128, b'\"rest_1\"', 0.0689,  0, 0.2624, 0.1132,  0.    ,  2.1422, 1.2641, b'\"NYU\"', b'NA', b'\"data_set\"',  9.53      , b'\"M\"', b'\"0.82\"', b'NA', b'127', b'112', b'136', b'2', 1, 0, b'NA', b'NA', b'NA', b'\"\"', b'\"\"', b'\"pass\"', b'NA', b'NA', b'NA', b'NA', b'NA', b'NA', b'NA', b'NA', b'NA', b'NA', b'NA', b'58', b'60', b'56', b'NA', b'\"pass\"', b'\"\"', b'\"\"', b'\"\"', b'\"\"', b'\"\"', b'NA', b'NA', b'NA', b'NA', b'NA', b'NA', b'\"pass\"', b'NA', b'NA', b'NA', b'NA', b'NA', b'NA', b'\"\"', b'\"\"'),\n",
       "        (b'\"20\"',   21019, b'\"rest_1\"', 0.0575,  0, 0.2398, 0.0955,  0.    ,  2.0339, 1.1973, b'\"NYU\"', b'NA', b'\"test_set\"', 15.53      , b'\"M\"', b'\"0.73\"', b'NA', b'107', b'112', b'99', b'2', 1, 0, b'45', b'43', b'NA', b'\"\"', b'\"\"', b'\"\"', b'NA', b'NA', b'NA', b'NA', b'NA', b'NA', b'NA', b'NA', b'NA', b'NA', b'NA', b'NA', b'NA', b'NA', b'NA', b'\"pass\"', b'\"open\"', b'\"pass\"', b'\"open\"', b'\"pass\"', b'\"open\"', b'NA', b'NA', b'NA', b'NA', b'NA', b'NA', b'\"pass\"', b'NA', b'NA', b'NA', b'NA', b'NA', b'NA', b'\"yes\"', b'\"\"'),\n",
       "        (b'\"30\"',   23008, b'\"rest_1\"', 0.0801,  7, 0.2831, 0.171 ,  8.9744, 13.4263, 1.7741, b'\"OHSU\"', b'NA', b'\"test_set\"',  9.17      , b'\"M\"', b'\"R\"', b'NA', b'112', b'NA', b'NA', b'2', 1, 0, b'NA', b'NA', b'NA', b'\"\"', b'\"\"', b'\"\"', b'NA', b'NA', b'NA', b'NA', b'NA', b'NA', b'NA', b'NA', b'NA', b'NA', b'NA', b'NA', b'NA', b'NA', b'NA', b'\"pass\"', b'\"\"', b'\"\"', b'\"\"', b'\"\"', b'\"\"', b'NA', b'NA', b'NA', b'NA', b'NA', b'NA', b'\"pass\"', b'NA', b'NA', b'NA', b'NA', b'NA', b'NA', b'\"yes\"', b'\"\"'),\n",
       "        (b'\"27\"',   23012, b'\"rest_1\"', 0.0569,  0, 0.2386, 0.1044,  0.    , 16.8908, 1.3229, b'\"OHSU\"', b'NA', b'\"test_set\"', 11.33      , b'\"F\"', b'\"R\"', b'NA', b'120', b'NA', b'NA', b'2', 0, 1, b'NA', b'NA', b'NA', b'\"\"', b'\"\"', b'\"\"', b'NA', b'NA', b'NA', b'NA', b'NA', b'NA', b'NA', b'NA', b'NA', b'NA', b'NA', b'NA', b'NA', b'NA', b'NA', b'\"pass\"', b'\"\"', b'\"\"', b'\"\"', b'\"\"', b'\"\"', b'NA', b'NA', b'NA', b'NA', b'NA', b'NA', b'\"pass\"', b'NA', b'NA', b'NA', b'NA', b'NA', b'NA', b'\"\"', b'\"\"'),\n",
       "        (b'\"15\"',   27011, b'\"rest_1\"', 0.1212,  1, 0.3482, 0.2302,  0.3817, 21.6233, 2.4654, b'\"NeuroImage\"', b'NA', b'\"test_set\"', 20.82      , b'\"M\"', b'\"R\"', b'128', b'NA', b'NA', b'NA', b'5', 0, 1, b'NA', b'NA', b'NA', b'\"\"', b'\"\"', b'\"\"', b'NA', b'NA', b'NA', b'NA', b'NA', b'NA', b'NA', b'NA', b'NA', b'NA', b'NA', b'NA', b'NA', b'NA', b'NA', b'\"pass\"', b'\"\"', b'\"\"', b'\"\"', b'\"\"', b'\"\"', b'NA', b'NA', b'NA', b'NA', b'NA', b'NA', b'\"pass\"', b'NA', b'NA', b'NA', b'NA', b'NA', b'NA', b'\"\"', b'\"\"'),\n",
       "        (b'\"11\"',   27018, b'\"rest_1\"', 0.0622,  5, 0.2494, 0.1221,  1.9157, 19.7246, 1.0707, b'\"NeuroImage\"', b'NA', b'\"test_set\"', 19.08      , b'\"M\"', b'\"\"', b'113', b'NA', b'NA', b'NA', b'5', 0, 1, b'NA', b'NA', b'NA', b'\"\"', b'\"\"', b'\"\"', b'NA', b'NA', b'NA', b'NA', b'NA', b'NA', b'NA', b'NA', b'NA', b'NA', b'NA', b'NA', b'NA', b'NA', b'NA', b'\"pass\"', b'\"closed\"', b'\"\"', b'\"\"', b'\"\"', b'\"\"', b'NA', b'NA', b'NA', b'NA', b'NA', b'NA', b'\"pass\"', b'NA', b'NA', b'NA', b'NA', b'NA', b'NA', b'\"\"', b'\"\"'),\n",
       "        (b'\"9\"',   27034, b'\"rest_1\"', 0.0484,  1, 0.2201, 0.086 ,  0.3831, 21.5895, 0.9262, b'\"NeuroImage\"', b'NA', b'\"test_set\"', 13.35      , b'\"M\"', b'\"R\"', b'97', b'NA', b'NA', b'NA', b'5', 0, 1, b'NA', b'NA', b'NA', b'\"\"', b'\"\"', b'\"\"', b'NA', b'NA', b'NA', b'NA', b'NA', b'NA', b'NA', b'NA', b'NA', b'NA', b'NA', b'NA', b'NA', b'NA', b'NA', b'\"pass\"', b'\"\"', b'\"\"', b'\"\"', b'\"\"', b'\"\"', b'NA', b'NA', b'NA', b'NA', b'NA', b'NA', b'\"pass\"', b'NA', b'NA', b'NA', b'NA', b'NA', b'NA', b'\"\"', b'\"\"'),\n",
       "        (b'\"13\"',   27037, b'\"rest_1\"', 0.0686,  0, 0.2619, 0.1121,  0.    , 21.8621, 1.5228, b'\"NeuroImage\"', b'NA', b'\"test_set\"', 17.74      , b'\"M\"', b'\"R\"', b'78', b'NA', b'NA', b'NA', b'5', 0, 1, b'NA', b'NA', b'NA', b'\"\"', b'\"\"', b'\"\"', b'NA', b'NA', b'NA', b'NA', b'NA', b'NA', b'NA', b'NA', b'NA', b'NA', b'NA', b'NA', b'NA', b'NA', b'NA', b'\"pass\"', b'\"\"', b'\"\"', b'\"\"', b'\"\"', b'\"\"', b'NA', b'NA', b'NA', b'NA', b'NA', b'NA', b'\"pass\"', b'NA', b'NA', b'NA', b'NA', b'NA', b'NA', b'\"\"', b'\"\"'),\n",
       "        (b'\"5\"', 1019436, b'\"rest_1\"', 0.0904,  0, 0.3006, 0.1927,  0.    , 19.6124, 1.6769, b'\"KKI\"', b'NA', b'\"data_set\"', 12.98      , b'\"M\"', b'\"R\"', b'NA', b'NA', b'NA', b'NA', b'NA', 0, 1, b'NA', b'NA', b'NA', b'\"\"', b'\"\"', b'\"\"', b'NA', b'NA', b'NA', b'NA', b'NA', b'NA', b'NA', b'NA', b'NA', b'NA', b'NA', b'NA', b'NA', b'NA', b'NA', b'\"pass\"', b'\"\"', b'\"\"', b'\"\"', b'\"\"', b'\"\"', b'NA', b'NA', b'NA', b'NA', b'NA', b'NA', b'\"pass\"', b'NA', b'NA', b'NA', b'NA', b'NA', b'NA', b'\"yes\"', b'\"\"'),\n",
       "        (b'\"29\"', 1206380, b'\"rest_1\"', 0.0719,  1, 0.2681, 0.1294,  1.2658, 16.9621, 2.1269, b'\"OHSU\"', b'NA', b'\"data_set\"',  9.17      , b'\"M\"', b'\"\"', b'NA', b'NA', b'NA', b'NA', b'NA', 0, 1, b'NA', b'NA', b'NA', b'\"\"', b'\"\"', b'\"\"', b'NA', b'NA', b'NA', b'NA', b'NA', b'NA', b'NA', b'NA', b'NA', b'NA', b'NA', b'NA', b'NA', b'NA', b'NA', b'\"pass\"', b'\"open\"', b'\"fail\"', b'\"closed\"', b'\"\"', b'\"\"', b'NA', b'NA', b'NA', b'NA', b'NA', b'NA', b'\"pass\"', b'NA', b'NA', b'NA', b'NA', b'NA', b'NA', b'\"yes\"', b'\"\"'),\n",
       "        (b'\"32\"', 1418396, b'\"rest_1\"', 0.0713,  2, 0.267 , 0.1471,  2.5316, 17.4328, 1.8083, b'\"OHSU\"', b'NA', b'\"data_set\"',  8.67      , b'\"M\"', b'\"\"', b'NA', b'NA', b'NA', b'NA', b'NA', 1, 0, b'NA', b'NA', b'NA', b'\"\"', b'\"\"', b'\"\"', b'NA', b'NA', b'NA', b'NA', b'NA', b'NA', b'NA', b'NA', b'NA', b'NA', b'NA', b'NA', b'NA', b'NA', b'NA', b'\"pass\"', b'\"\"', b'\"\"', b'\"\"', b'\"\"', b'\"\"', b'NA', b'NA', b'NA', b'NA', b'NA', b'NA', b'\"pass\"', b'NA', b'NA', b'NA', b'NA', b'NA', b'NA', b'\"\"', b'\"\"'),\n",
       "        (b'\"36\"', 1517058, b'\"rest_1\"', 0.0733,  0, 0.2708, 0.145 ,  0.    , 18.3401, 1.419 , b'\"Peking_1\"', b'NA', b'\"test_set\"',  9.75      , b'\"M\"', b'\"R\"', b'NA', b'144', b'141', b'138', b'3', 1, 0, b'20', b'16', b'NA', b'\"\"', b'\"\"', b'\"\"', b'NA', b'NA', b'NA', b'NA', b'NA', b'NA', b'NA', b'NA', b'NA', b'NA', b'NA', b'NA', b'NA', b'NA', b'NA', b'\"pass\"', b'\"\"', b'\"\"', b'\"\"', b'\"\"', b'\"\"', b'NA', b'NA', b'NA', b'NA', b'NA', b'NA', b'\"pass\"', b'NA', b'NA', b'NA', b'NA', b'NA', b'NA', b'\"\"', b'\"\"'),\n",
       "        (b'\"25\"', 1552181, b'\"rest_1\"', 0.0408,  0, 0.2021, 0.0665,  0.    , 12.8089, 0.8528, b'\"OHSU\"', b'NA', b'\"data_set\"',  9.83      , b'\"F\"', b'\"\"', b'NA', b'NA', b'NA', b'NA', b'NA', 0, 1, b'NA', b'NA', b'NA', b'\"\"', b'\"\"', b'\"\"', b'NA', b'NA', b'NA', b'NA', b'NA', b'NA', b'NA', b'NA', b'NA', b'NA', b'NA', b'NA', b'NA', b'NA', b'NA', b'\"pass\"', b'\"\"', b'\"\"', b'\"\"', b'\"\"', b'\"\"', b'NA', b'NA', b'NA', b'NA', b'NA', b'NA', b'\"pass\"', b'NA', b'NA', b'NA', b'NA', b'NA', b'NA', b'\"\"', b'\"\"'),\n",
       "        (b'\"38\"', 1562298, b'\"rest_1\"', 0.0722,  2, 0.2686, 0.1246,  0.8439, 25.0944, 1.8281, b'\"Peking_2\"', b'NA', b'\"data_set\"',  9.58      , b'\"M\"', b'\"R\"', b'NA', b'113', b'109', b'115', b'NA', 1, 0, b'0', b'0', b'0', b'\"\"', b'\"\"', b'\"\"', b'NA', b'NA', b'NA', b'NA', b'NA', b'NA', b'NA', b'NA', b'NA', b'NA', b'NA', b'NA', b'NA', b'NA', b'NA', b'\"pass\"', b'\"\"', b'\"\"', b'\"\"', b'\"\"', b'\"\"', b'NA', b'NA', b'NA', b'NA', b'NA', b'NA', b'\"pass\"', b'NA', b'NA', b'NA', b'NA', b'NA', b'NA', b'\"\"', b'\"\"'),\n",
       "        (b'\"28\"', 1679142, b'\"rest_1\"', 0.1482,  0, 0.3849, 0.2947,  0.    , 18.4691, 2.2433, b'\"OHSU\"', b'NA', b'\"data_set\"', 11.33      , b'\"M\"', b'\"\"', b'NA', b'NA', b'NA', b'NA', b'NA', 1, 0, b'NA', b'NA', b'NA', b'\"\"', b'\"\"', b'\"\"', b'NA', b'NA', b'NA', b'NA', b'NA', b'NA', b'NA', b'NA', b'NA', b'NA', b'NA', b'NA', b'NA', b'NA', b'NA', b'\"pass\"', b'\"\"', b'\"\"', b'\"\"', b'\"\"', b'\"\"', b'NA', b'NA', b'NA', b'NA', b'NA', b'NA', b'\"pass\"', b'NA', b'NA', b'NA', b'NA', b'NA', b'NA', b'\"yes\"', b'\"\"'),\n",
       "        (b'\"1\"', 2014113, b'\"rest_1\"', 0.0576,  2, 0.24  , 0.0944,  1.6   , 16.1677, 1.3868, b'\"KKI\"', b'NA', b'\"data_set\"', 10.34520548, b'\"M\"', b'\"R\"', b'NA', b'NA', b'NA', b'NA', b'NA', 0, 1, b'NA', b'NA', b'NA', b'\"\"', b'\"\"', b'\"\"', b'NA', b'NA', b'NA', b'NA', b'NA', b'NA', b'NA', b'NA', b'NA', b'NA', b'NA', b'NA', b'NA', b'NA', b'NA', b'\"pass\"', b'\"\"', b'\"\"', b'\"\"', b'\"\"', b'\"\"', b'NA', b'NA', b'NA', b'NA', b'NA', b'NA', b'\"pass\"', b'NA', b'NA', b'NA', b'NA', b'NA', b'NA', b'\"yes\"', b'\"\"'),\n",
       "        (b'\"23\"', 2497695, b'\"rest_1\"', 0.0482,  0, 0.2195, 0.0739,  0.    ,  2.1269, 1.0257, b'\"NYU\"', b'NA', b'\"data_set\"', 11.61      , b'\"M\"', b'\"0.6\"', b'NA', b'116', b'107', b'123', b'NA', 0, 1, b'0', b'1', b'0', b'\"\"', b'\"\"', b'\"\"', b'83', b'76', b'66', b'47', b'41', b'45', b'73', b'82', b'82', b'88', b'86', b'80', b'79', b'82', b'NA', b'\"pass\"', b'\"\"', b'\"\"', b'\"\"', b'\"\"', b'\"\"', b'NA', b'NA', b'NA', b'NA', b'NA', b'NA', b'\"pass\"', b'NA', b'NA', b'NA', b'NA', b'NA', b'NA', b'\"yes\"', b'\"\"'),\n",
       "        (b'\"33\"', 2950754, b'\"rest_1\"', 0.0523,  2, 0.2287, 0.0864,  0.8439, 20.3974, 1.1459, b'\"Peking_2\"', b'NA', b'\"data_set\"', 13.33      , b'\"M\"', b'\"R\"', b'NA', b'127', b'137', b'109', b'NA', 0, 1, b'0', b'1', b'0', b'\"ADHD-I\"', b'\"\"', b'\"\"', b'NA', b'NA', b'NA', b'NA', b'NA', b'NA', b'NA', b'NA', b'NA', b'NA', b'NA', b'NA', b'NA', b'NA', b'NA', b'\"pass\"', b'\"open\"', b'\"\"', b'\"\"', b'\"\"', b'\"\"', b'NA', b'NA', b'NA', b'NA', b'NA', b'NA', b'\"pass\"', b'NA', b'NA', b'NA', b'NA', b'NA', b'NA', b'\"yes\"', b'\"\"'),\n",
       "        (b'\"16\"', 3007585, b'\"rest_1\"', 0.0528,  0, 0.2298, 0.1094,  0.    , 25.124 , 0.9446, b'\"NeuroImage\"', b'NA', b'\"data_set\"', 19.05      , b'\"M\"', b'\"\"', b'NA', b'NA', b'NA', b'NA', b'NA', 1, 0, b'NA', b'NA', b'NA', b'\"\"', b'\"\"', b'\"\"', b'NA', b'NA', b'NA', b'NA', b'NA', b'NA', b'NA', b'NA', b'NA', b'NA', b'NA', b'NA', b'NA', b'NA', b'NA', b'\"pass\"', b'\"\"', b'\"\"', b'\"\"', b'\"\"', b'\"\"', b'NA', b'NA', b'NA', b'NA', b'NA', b'NA', b'\"pass\"', b'NA', b'NA', b'NA', b'NA', b'NA', b'NA', b'\"\"', b'\"\"'),\n",
       "        (b'\"7\"', 3154996, b'\"rest_1\"', 0.0881,  0, 0.2968, 0.1619,  0.    , 18.612 , 1.8118, b'\"KKI\"', b'NA', b'\"data_set\"', 11.65      , b'\"M\"', b'\"R\"', b'NA', b'NA', b'NA', b'NA', b'NA', 0, 1, b'NA', b'NA', b'NA', b'\"\"', b'\"\"', b'\"\"', b'NA', b'NA', b'NA', b'NA', b'NA', b'NA', b'NA', b'NA', b'NA', b'NA', b'NA', b'NA', b'NA', b'NA', b'NA', b'\"pass\"', b'\"\"', b'\"\"', b'\"\"', b'\"\"', b'\"\"', b'NA', b'NA', b'NA', b'NA', b'NA', b'NA', b'\"\"', b'1', b'NA', b'NA', b'NA', b'NA', b'NA', b'\"\"', b'\"\"'),\n",
       "        (b'\"39\"', 3205761, b'\"rest_1\"', 0.0679,  8, 0.2605, 0.1572,  3.3755, 23.8591, 1.3947, b'\"Peking_2\"', b'NA', b'\"data_set\"', 14.58      , b'\"M\"', b'\"R\"', b'NA', b'106', b'126', b'80', b'NA', 0, 1, b'0', b'1', b'0', b'\"ADHD-C;ODD\"', b'\"ODD\"', b'\"\"', b'NA', b'NA', b'NA', b'NA', b'NA', b'NA', b'NA', b'NA', b'NA', b'NA', b'NA', b'NA', b'NA', b'NA', b'NA', b'\"pass\"', b'\"\"', b'\"pass\"', b'\"\"', b'\"\"', b'\"\"', b'NA', b'NA', b'NA', b'NA', b'NA', b'NA', b'\"pass\"', b'NA', b'NA', b'NA', b'NA', b'NA', b'NA', b'\"\"', b'\"\"'),\n",
       "        (b'\"35\"', 3520880, b'\"rest_1\"', 0.0509,  0, 0.2255, 0.0743,  0.    , 17.8432, 1.3762, b'\"Peking_1\"', b'NA', b'\"test_set\"',  9.83      , b'\"M\"', b'\"R\"', b'NA', b'142', b'140', b'135', b'3', 0, 1, b'29', b'25', b'NA', b'\"\"', b'\"\"', b'\"\"', b'NA', b'NA', b'NA', b'NA', b'NA', b'NA', b'NA', b'NA', b'NA', b'NA', b'NA', b'NA', b'NA', b'NA', b'NA', b'\"pass\"', b'\"\"', b'\"pass\"', b'\"\"', b'\"\"', b'\"\"', b'NA', b'NA', b'NA', b'NA', b'NA', b'NA', b'\"pass\"', b'NA', b'NA', b'NA', b'NA', b'NA', b'NA', b'\"\"', b'\"\"'),\n",
       "        (b'\"40\"', 3624598, b'\"rest_1\"', 0.0653, 14, 0.2556, 0.1404,  5.9072,  8.28  , 1.6411, b'\"Peking_3\"', b'NA', b'\"data_set\"', 14.58      , b'\"M\"', b'\"R\"', b'NA', b'135', b'NA', b'NA', b'NA', 1, 0, b'0', b'0', b'0', b'\"\"', b'\"\"', b'\"\"', b'NA', b'NA', b'NA', b'NA', b'NA', b'NA', b'NA', b'NA', b'NA', b'NA', b'NA', b'NA', b'NA', b'NA', b'NA', b'\"pass\"', b'\"\"', b'\"\"', b'\"\"', b'\"\"', b'\"\"', b'NA', b'NA', b'NA', b'NA', b'NA', b'NA', b'\"pass\"', b'NA', b'NA', b'NA', b'NA', b'NA', b'NA', b'\"\"', b'\"\"'),\n",
       "        (b'\"6\"', 3699991, b'\"rest_1\"', 0.1113, 15, 0.3337, 0.2524,  9.8039, 19.8704, 2.6121, b'\"KKI\"', b'4154182', b'\"data_set\"', 12.77260274, b'\"M\"', b'\"R\"', b'NA', b'NA', b'NA', b'NA', b'NA', 1, 0, b'NA', b'NA', b'NA', b'\"\"', b'\"\"', b'\"\"', b'NA', b'NA', b'NA', b'NA', b'NA', b'NA', b'NA', b'NA', b'NA', b'NA', b'NA', b'NA', b'NA', b'NA', b'NA', b'\"pass\"', b'\"closed\"', b'\"\"', b'\"\"', b'\"\"', b'\"\"', b'NA', b'NA', b'NA', b'NA', b'NA', b'NA', b'\"pass\"', b'NA', b'NA', b'NA', b'NA', b'NA', b'NA', b'\"\"', b'\"\"'),\n",
       "        (b'\"8\"', 3884955, b'\"rest_1\"', 0.0988,  8, 0.3144, 0.1881,  6.4   , 17.3609, 1.9543, b'\"KKI\"', b'NA', b'\"data_set\"', 11.84      , b'\"M\"', b'\"R\"', b'NA', b'NA', b'NA', b'NA', b'NA', 1, 0, b'NA', b'NA', b'NA', b'\"\"', b'\"\"', b'\"\"', b'NA', b'NA', b'NA', b'NA', b'NA', b'NA', b'NA', b'NA', b'NA', b'NA', b'NA', b'NA', b'NA', b'NA', b'NA', b'\"pass\"', b'\"open\"', b'\"\"', b'\"\"', b'\"\"', b'\"\"', b'NA', b'NA', b'NA', b'NA', b'NA', b'NA', b'\"pass\"', b'NA', b'NA', b'NA', b'NA', b'NA', b'NA', b'\"\"', b'\"\"'),\n",
       "        (b'\"2\"', 3902469, b'\"rest_1\"', 0.058 ,  0, 0.2409, 0.0931,  0.    , 17.4188, 1.204 , b'\"KKI\"', b'NA', b'\"data_set\"', 10.63561644, b'\"M\"', b'\"R\"', b'NA', b'NA', b'NA', b'NA', b'NA', 1, 0, b'NA', b'NA', b'NA', b'\"\"', b'\"\"', b'\"\"', b'NA', b'NA', b'NA', b'NA', b'NA', b'NA', b'NA', b'NA', b'NA', b'NA', b'NA', b'NA', b'NA', b'NA', b'NA', b'\"pass\"', b'\"closed\"', b'\"\"', b'\"\"', b'\"\"', b'\"\"', b'NA', b'NA', b'NA', b'NA', b'NA', b'NA', b'\"pass\"', b'NA', b'NA', b'NA', b'NA', b'NA', b'NA', b'\"\"', b'\"\"'),\n",
       "        (b'\"34\"', 3994098, b'\"rest_1\"', 0.0547,  0, 0.234 , 0.0993,  0.    , 21.5907, 1.32  , b'\"Peking_2\"', b'NA', b'\"data_set\"', 12.75      , b'\"M\"', b'\"R\"', b'NA', b'115', b'121', b'104', b'NA', 1, 0, b'0', b'0', b'0', b'\"\"', b'\"\"', b'\"\"', b'NA', b'NA', b'NA', b'NA', b'NA', b'NA', b'NA', b'NA', b'NA', b'NA', b'NA', b'NA', b'NA', b'NA', b'NA', b'\"pass\"', b'\"open\"', b'\"pass\"', b'\"open\"', b'\"pass\"', b'\"open\"', b'NA', b'NA', b'NA', b'NA', b'NA', b'NA', b'\"pass\"', b'NA', b'NA', b'NA', b'NA', b'NA', b'NA', b'\"yes\"', b'\"\"'),\n",
       "        (b'\"31\"', 4016887, b'\"rest_1\"', 0.0879,  3, 0.2965, 0.1516,  3.7975, 17.4466, 2.5734, b'\"OHSU\"', b'NA', b'\"data_set\"',  9.08      , b'\"M\"', b'\"\"', b'NA', b'NA', b'NA', b'NA', b'NA', 0, 1, b'NA', b'NA', b'NA', b'\"\"', b'\"\"', b'\"\"', b'NA', b'NA', b'NA', b'NA', b'NA', b'NA', b'NA', b'NA', b'NA', b'NA', b'NA', b'NA', b'NA', b'NA', b'NA', b'\"pass\"', b'\"\"', b'\"\"', b'\"\"', b'\"\"', b'\"\"', b'NA', b'NA', b'NA', b'NA', b'NA', b'NA', b'\"pass\"', b'NA', b'NA', b'NA', b'NA', b'NA', b'NA', b'\"\"', b'\"\"'),\n",
       "        (b'\"26\"', 4046678, b'\"rest_1\"', 0.1139,  9, 0.3375, 0.2162, 11.3924, 16.4176, 2.7597, b'\"OHSU\"', b'NA', b'\"data_set\"',  8.58      , b'\"F\"', b'\"\"', b'NA', b'NA', b'NA', b'NA', b'NA', 1, 0, b'NA', b'NA', b'NA', b'\"\"', b'\"\"', b'\"\"', b'NA', b'NA', b'NA', b'NA', b'NA', b'NA', b'NA', b'NA', b'NA', b'NA', b'NA', b'NA', b'NA', b'NA', b'NA', b'\"pass\"', b'\"open\"', b'\"fail\"', b'\"open\"', b'\"\"', b'\"\"', b'NA', b'NA', b'NA', b'NA', b'NA', b'NA', b'\"pass\"', b'NA', b'NA', b'NA', b'NA', b'NA', b'NA', b'\"\"', b'\"\"'),\n",
       "        (b'\"10\"', 4134561, b'\"rest_1\"', 0.0439,  4, 0.2095, 0.0849,  1.5267, 25.0028, 0.9207, b'\"NeuroImage\"', b'NA', b'\"data_set\"', 15.55      , b'\"M\"', b'\"\"', b'NA', b'NA', b'NA', b'NA', b'NA', 1, 0, b'NA', b'NA', b'NA', b'\"\"', b'\"\"', b'\"\"', b'NA', b'NA', b'NA', b'NA', b'NA', b'NA', b'NA', b'NA', b'NA', b'NA', b'NA', b'NA', b'NA', b'NA', b'NA', b'\"pass\"', b'\"open\"', b'\"\"', b'\"\"', b'\"\"', b'\"\"', b'NA', b'NA', b'NA', b'NA', b'NA', b'NA', b'\"pass\"', b'NA', b'NA', b'NA', b'NA', b'NA', b'NA', b'\"yes\"', b'\"\"'),\n",
       "        (b'\"24\"', 4164316, b'\"rest_1\"', 0.0774, 11, 0.2782, 0.1786,  6.2147,  2.247 , 1.4483, b'\"NYU\"', b'NA', b'\"data_set\"', 10.69      , b'\"M\"', b'\"0.29\"', b'NA', b'80', b'92', b'72', b'NA', 1, 0, b'0', b'0', b'0', b'\"\"', b'\"\"', b'\"\"', b'41', b'41', b'45', b'45', b'46', b'45', b'42', b'42', b'45', b'41', b'44', b'40', b'44', b'41', b'NA', b'\"pass\"', b'\"\"', b'\"\"', b'\"\"', b'\"\"', b'\"\"', b'NA', b'NA', b'NA', b'NA', b'NA', b'NA', b'\"pass\"', b'NA', b'NA', b'NA', b'NA', b'NA', b'NA', b'\"yes\"', b'\"\"'),\n",
       "        (b'\"3\"', 4275075, b'\"rest_1\"', 0.0789,  0, 0.2808, 0.152 ,  0.    , 17.7796, 1.8105, b'\"KKI\"', b'NA', b'\"data_set\"', 10.5       , b'\"F\"', b'\"R\"', b'NA', b'NA', b'NA', b'NA', b'NA', 0, 1, b'NA', b'NA', b'NA', b'\"\"', b'\"\"', b'\"\"', b'NA', b'NA', b'NA', b'NA', b'NA', b'NA', b'NA', b'NA', b'NA', b'NA', b'NA', b'NA', b'NA', b'NA', b'NA', b'\"pass\"', b'\"\"', b'\"\"', b'\"\"', b'\"\"', b'\"\"', b'NA', b'NA', b'NA', b'NA', b'NA', b'NA', b'\"pass\"', b'NA', b'NA', b'NA', b'NA', b'NA', b'NA', b'\"\"', b'\"\"'),\n",
       "        (b'\"12\"', 6115230, b'\"rest_1\"', 0.0539,  2, 0.2322, 0.104 ,  0.7634, 23.1873, 1.1637, b'\"NeuroImage\"', b'NA', b'\"data_set\"', 19.39      , b'\"M\"', b'\"\"', b'NA', b'NA', b'NA', b'NA', b'NA', 1, 0, b'NA', b'NA', b'NA', b'\"\"', b'\"\"', b'\"\"', b'NA', b'NA', b'NA', b'NA', b'NA', b'NA', b'NA', b'NA', b'NA', b'NA', b'NA', b'NA', b'NA', b'NA', b'NA', b'\"pass\"', b'\"open\"', b'\"fail\"', b'\"open\"', b'\"\"', b'\"\"', b'NA', b'NA', b'NA', b'NA', b'NA', b'NA', b'\"pass\"', b'NA', b'NA', b'NA', b'NA', b'NA', b'NA', b'\"yes\"', b'\"deface front part of skull/brain\"'),\n",
       "        (b'\"4\"', 7774305, b'\"rest_1\"', 0.0679,  0, 0.2606, 0.1054,  0.    , 16.7169, 1.5137, b'\"KKI\"', b'NA', b'\"data_set\"', 11.22      , b'\"F\"', b'\"R\"', b'NA', b'NA', b'NA', b'NA', b'NA', 1, 0, b'NA', b'NA', b'NA', b'\"\"', b'\"\"', b'\"\"', b'NA', b'NA', b'NA', b'NA', b'NA', b'NA', b'NA', b'NA', b'NA', b'NA', b'NA', b'NA', b'NA', b'NA', b'NA', b'\"pass\"', b'\"closed\"', b'\"questionable\"', b'\"open\"', b'\"\"', b'\"\"', b'NA', b'NA', b'NA', b'NA', b'NA', b'NA', b'\"pass\"', b'NA', b'NA', b'NA', b'NA', b'NA', b'NA', b'\"yes\"', b'\"defaced part of front skull/brain\"'),\n",
       "        (b'\"14\"', 8409791, b'\"rest_1\"', 0.0567,  4, 0.238 , 0.1068,  1.5267, 22.7119, 1.0041, b'\"NeuroImage\"', b'NA', b'\"data_set\"', 17.59      , b'\"M\"', b'\"\"', b'NA', b'NA', b'NA', b'NA', b'NA', 1, 0, b'NA', b'NA', b'NA', b'\"\"', b'\"\"', b'\"\"', b'NA', b'NA', b'NA', b'NA', b'NA', b'NA', b'NA', b'NA', b'NA', b'NA', b'NA', b'NA', b'NA', b'NA', b'NA', b'\"pass\"', b'\"\"', b'\"\"', b'\"\"', b'\"\"', b'\"\"', b'NA', b'NA', b'NA', b'NA', b'NA', b'NA', b'\"pass\"', b'NA', b'NA', b'NA', b'NA', b'NA', b'NA', b'\"yes\"', b'\"\"'),\n",
       "        (b'\"17\"', 8697774, b'\"rest_1\"', 0.0527,  0, 0.2296, 0.08  ,  0.    ,  2.0728, 1.1396, b'\"NYU\"', b'NA', b'\"data_set\"',  9.92      , b'\"M\"', b'\"0.91\"', b'NA', b'101', b'97', b'106', b'NA', 0, 1, b'0', b'1', b'0', b'\"\"', b'\"specific phobia - dark\"', b'\"pass\"', b'60', b'69', b'83', b'53', b'46', b'45', b'42', b'70', b'75', b'57', b'71', b'67', b'79', b'74', b'NA', b'\"pass\"', b'\"open\"', b'\"pass\"', b'\"open\"', b'\"fail\"', b'\"open\"', b'NA', b'NA', b'NA', b'NA', b'NA', b'NA', b'\"pass\"', b'NA', b'NA', b'NA', b'NA', b'NA', b'NA', b'\"\"', b'\"\"'),\n",
       "        (b'\"37\"', 9744150, b'\"rest_1\"', 0.0547,  0, 0.2338, 0.0966,  0.    , 19.1607, 1.4302, b'\"Peking_1\"', b'NA', b'\"test_set\"',  9.5       , b'\"M\"', b'\"R\"', b'NA', b'113', b'117', b'104', b'3', 0, 1, b'27', b'23', b'NA', b'\"\"', b'\"\"', b'\"\"', b'NA', b'NA', b'NA', b'NA', b'NA', b'NA', b'NA', b'NA', b'NA', b'NA', b'NA', b'NA', b'NA', b'NA', b'NA', b'\"pass\"', b'\"\"', b'\"\"', b'\"\"', b'\"\"', b'\"\"', b'NA', b'NA', b'NA', b'NA', b'NA', b'NA', b'\"pass\"', b'NA', b'NA', b'NA', b'NA', b'NA', b'NA', b'\"\"', b'\"\"'),\n",
       "        (b'\"18\"', 9750701, b'\"rest_1\"', 0.0654,  0, 0.2557, 0.1026,  0.    ,  2.1544, 1.3514, b'\"NYU\"', b'NA', b'\"data_set\"', 10.74      , b'\"M\"', b'\"0.91\"', b'NA', b'113', b'103', b'121', b'NA', 1, 0, b'0', b'0', b'0', b'\"\"', b'\"\"', b'\"pass\"', b'39', b'40', b'43', b'45', b'44', b'45', b'48', b'41', b'41', b'41', b'41', b'40', b'43', b'40', b'NA', b'\"pass\"', b'\"open\"', b'\"\"', b'\"\"', b'\"\"', b'\"\"', b'NA', b'NA', b'NA', b'NA', b'NA', b'NA', b'\"pass\"', b'NA', b'NA', b'NA', b'NA', b'NA', b'NA', b'\"yes\"', b'\"\"')],\n",
       "       dtype=[('f0', 'S4'), ('Subject', '<i8'), ('RestScan', 'S8'), ('MeanFD', '<f8'), ('NumFD_greater_than_020', '<i8'), ('rootMeanSquareFD', '<f8'), ('FDquartiletop14thFD', '<f8'), ('PercentFD_greater_than_020', '<f8'), ('MeanDVARS', '<f8'), ('MeanFD_Jenkinson', '<f8'), ('site', 'S12'), ('sibling_id', 'S7'), ('data_set', 'S10'), ('age', '<f8'), ('sex', 'S3'), ('handedness', 'S6'), ('full_2_iq', 'S3'), ('full_4_iq', 'S3'), ('viq', 'S3'), ('piq', 'S3'), ('iq_measure', 'S2'), ('tdc', '<i8'), ('adhd', '<i8'), ('adhd_inattentive', 'S2'), ('adhd_combined', 'S2'), ('adhd_subthreshold', 'S2'), ('diagnosis_using_cdis', 'S12'), ('notes', 'S24'), ('sess_1_anat_2', 'S6'), ('oppositional', 'S2'), ('cog_inatt', 'S2'), ('hyperac', 'S2'), ('anxious_shy', 'S2'), ('perfectionism', 'S2'), ('social_problems', 'S2'), ('psychosomatic', 'S2'), ('conn_adhd', 'S2'), ('restless_impulsive', 'S2'), ('emot_lability', 'S2'), ('conn_gi_tot', 'S2'), ('dsm_iv_inatt', 'S2'), ('dsm_iv_h_i', 'S2'), ('dsm_iv_tot', 'S2'), ('study', 'S2'), ('sess_1_rest_1', 'S6'), ('sess_1_rest_1_eyes', 'S8'), ('sess_1_rest_2', 'S14'), ('sess_1_rest_2_eyes', 'S8'), ('sess_1_rest_3', 'S6'), ('sess_1_rest_3_eyes', 'S6'), ('sess_1_rest_4', 'S2'), ('sess_1_rest_4_eyes', 'S2'), ('sess_1_rest_5', 'S2'), ('sess_1_rest_5_eyes', 'S2'), ('sess_1_rest_6', 'S2'), ('sess_1_rest_6_eyes', 'S2'), ('sess_1_anat_1', 'S6'), ('sess_1_which_anat', 'S2'), ('sess_2_rest_1', 'S2'), ('sess_2_rest_1_eyes', 'S2'), ('sess_2_rest_2', 'S2'), ('sess_2_rest_2_eyes', 'S2'), ('sess_2_anat_1', 'S2'), ('defacing_ok', 'S5'), ('defacing_notes', 'S35')]),\n",
       " 'description': \"ADHD 200\\n\\n\\nNotes\\n-----\\nPart of the 1000 Functional Connectome Project. Phenotypic\\ninformation includes: diagnostic status, dimensional ADHD symptom measures,\\nage, sex, intelligence quotient (IQ) and lifetime medication status.\\nPreliminary quality control assessments (usable vs. questionable) based upon\\nvisual timeseries inspection are included for all resting state fMRI scans.\\n\\nIncludes preprocessed data from 40 participants.\\n\\nProject was coordinated by Michael P. Milham.\\n\\nContent\\n-------\\n    :'func': Nifti images of the resting-state data\\n    :'phenotypic': Explanations of preprocessing steps\\n    :'confounds': CSV files containing the nuisance variables\\n\\nReferences\\n----------\\nFor more information about this dataset's structure:\\nhttp://fcon_1000.projects.nitrc.org/indi/adhd200/index.html\\n\\nLicence: usage is unrestricted for non-commercial research purposes.\\n\"}"
      ]
     },
     "execution_count": 14,
     "metadata": {},
     "output_type": "execute_result"
    }
   ],
   "source": [
    "nilearn.datasets.fetch_adhd(n_subjects=40, data_dir='/mnt/c/Users/nasta/Desktop/Forschungsmodul/project_msc05/data', url=None, resume=True, verbose=1)"
   ]
  },
  {
   "cell_type": "code",
   "execution_count": 29,
   "id": "226e688c",
   "metadata": {},
   "outputs": [],
   "source": [
    "from glob import glob\n",
    "data_files = glob('data/adhd/data/**/*.csv', recursive=True)"
   ]
  },
  {
   "cell_type": "code",
   "execution_count": 30,
   "id": "d1500aca",
   "metadata": {},
   "outputs": [
    {
     "data": {
      "text/plain": [
       "['data/adhd/data/0010042/0010042_regressors.csv',\n",
       " 'data/adhd/data/0010064/0010064_regressors.csv',\n",
       " 'data/adhd/data/0010128/0010128_regressors.csv',\n",
       " 'data/adhd/data/0021019/0021019_regressors.csv',\n",
       " 'data/adhd/data/0023008/0023008_regressors.csv',\n",
       " 'data/adhd/data/0023012/0023012_regressors.csv',\n",
       " 'data/adhd/data/0027011/0027011_regressors.csv',\n",
       " 'data/adhd/data/0027018/0027018_regressors.csv',\n",
       " 'data/adhd/data/0027034/0027034_regressors.csv',\n",
       " 'data/adhd/data/0027037/0027037_regressors.csv',\n",
       " 'data/adhd/data/1019436/1019436_regressors.csv',\n",
       " 'data/adhd/data/1206380/1206380_regressors.csv',\n",
       " 'data/adhd/data/1418396/1418396_regressors.csv',\n",
       " 'data/adhd/data/1517058/1517058_regressors.csv',\n",
       " 'data/adhd/data/1552181/1552181_regressors.csv',\n",
       " 'data/adhd/data/1562298/1562298_regressors.csv',\n",
       " 'data/adhd/data/1679142/1679142_regressors.csv',\n",
       " 'data/adhd/data/2014113/2014113_regressors.csv',\n",
       " 'data/adhd/data/2497695/2497695_regressors.csv',\n",
       " 'data/adhd/data/2950754/2950754_regressors.csv',\n",
       " 'data/adhd/data/3007585/3007585_regressors.csv',\n",
       " 'data/adhd/data/3154996/3154996_regressors.csv',\n",
       " 'data/adhd/data/3205761/3205761_regressors.csv',\n",
       " 'data/adhd/data/3520880/3520880_regressors.csv',\n",
       " 'data/adhd/data/3624598/3624598_regressors.csv',\n",
       " 'data/adhd/data/3699991/3699991_regressors.csv',\n",
       " 'data/adhd/data/3884955/3884955_regressors.csv',\n",
       " 'data/adhd/data/3902469/3902469_regressors.csv',\n",
       " 'data/adhd/data/3994098/3994098_regressors.csv',\n",
       " 'data/adhd/data/4016887/4016887_regressors.csv',\n",
       " 'data/adhd/data/4046678/4046678_regressors.csv',\n",
       " 'data/adhd/data/4134561/4134561_regressors.csv',\n",
       " 'data/adhd/data/4164316/4164316_regressors.csv',\n",
       " 'data/adhd/data/4275075/4275075_regressors.csv',\n",
       " 'data/adhd/data/6115230/6115230_regressors.csv',\n",
       " 'data/adhd/data/7774305/7774305_regressors.csv',\n",
       " 'data/adhd/data/8409791/8409791_regressors.csv',\n",
       " 'data/adhd/data/8697774/8697774_regressors.csv',\n",
       " 'data/adhd/data/9744150/9744150_regressors.csv',\n",
       " 'data/adhd/data/9750701/9750701_regressors.csv']"
      ]
     },
     "execution_count": 30,
     "metadata": {},
     "output_type": "execute_result"
    }
   ],
   "source": [
    "data_files"
   ]
  },
  {
   "cell_type": "code",
   "execution_count": 32,
   "id": "526361d8",
   "metadata": {},
   "outputs": [],
   "source": [
    "import pandas as pd"
   ]
  },
  {
   "cell_type": "code",
   "execution_count": 45,
   "id": "a200aed0",
   "metadata": {},
   "outputs": [],
   "source": [
    "data_loaded = pd.read_csv(data_files[0], sep ='\\t')"
   ]
  },
  {
   "cell_type": "code",
   "execution_count": 46,
   "id": "d32235d8",
   "metadata": {},
   "outputs": [
    {
     "data": {
      "text/html": [
       "<div>\n",
       "<style scoped>\n",
       "    .dataframe tbody tr th:only-of-type {\n",
       "        vertical-align: middle;\n",
       "    }\n",
       "\n",
       "    .dataframe tbody tr th {\n",
       "        vertical-align: top;\n",
       "    }\n",
       "\n",
       "    .dataframe thead th {\n",
       "        text-align: right;\n",
       "    }\n",
       "</style>\n",
       "<table border=\"1\" class=\"dataframe\">\n",
       "  <thead>\n",
       "    <tr style=\"text-align: right;\">\n",
       "      <th></th>\n",
       "      <th>csf</th>\n",
       "      <th>constant</th>\n",
       "      <th>linearTrend</th>\n",
       "      <th>wm</th>\n",
       "      <th>global</th>\n",
       "      <th>motion-pitch</th>\n",
       "      <th>motion-roll</th>\n",
       "      <th>motion-yaw</th>\n",
       "      <th>motion-x</th>\n",
       "      <th>motion-y</th>\n",
       "      <th>motion-z</th>\n",
       "      <th>gm</th>\n",
       "      <th>compcor1</th>\n",
       "      <th>compcor2</th>\n",
       "      <th>compcor3</th>\n",
       "      <th>compcor4</th>\n",
       "      <th>compcor5</th>\n",
       "    </tr>\n",
       "  </thead>\n",
       "  <tbody>\n",
       "    <tr>\n",
       "      <th>0</th>\n",
       "      <td>12140.708282</td>\n",
       "      <td>1.0</td>\n",
       "      <td>0.0</td>\n",
       "      <td>9322.722489</td>\n",
       "      <td>9955.469315</td>\n",
       "      <td>-0.0637</td>\n",
       "      <td>0.1032</td>\n",
       "      <td>-0.1516</td>\n",
       "      <td>-0.0376</td>\n",
       "      <td>-0.0112</td>\n",
       "      <td>0.0840</td>\n",
       "      <td>10617.938409</td>\n",
       "      <td>-0.035058</td>\n",
       "      <td>-0.006713</td>\n",
       "      <td>-0.071532</td>\n",
       "      <td>0.009847</td>\n",
       "      <td>-0.027601</td>\n",
       "    </tr>\n",
       "    <tr>\n",
       "      <th>1</th>\n",
       "      <td>12123.146913</td>\n",
       "      <td>1.0</td>\n",
       "      <td>1.0</td>\n",
       "      <td>9314.257684</td>\n",
       "      <td>9947.987176</td>\n",
       "      <td>-0.0708</td>\n",
       "      <td>0.0953</td>\n",
       "      <td>-0.1562</td>\n",
       "      <td>-0.0198</td>\n",
       "      <td>0.0021</td>\n",
       "      <td>0.0722</td>\n",
       "      <td>10611.036827</td>\n",
       "      <td>-0.026949</td>\n",
       "      <td>-0.091152</td>\n",
       "      <td>-0.030126</td>\n",
       "      <td>0.020055</td>\n",
       "      <td>-0.099798</td>\n",
       "    </tr>\n",
       "    <tr>\n",
       "      <th>2</th>\n",
       "      <td>12085.963127</td>\n",
       "      <td>1.0</td>\n",
       "      <td>2.0</td>\n",
       "      <td>9319.610045</td>\n",
       "      <td>9945.132852</td>\n",
       "      <td>-0.0795</td>\n",
       "      <td>0.0971</td>\n",
       "      <td>-0.1453</td>\n",
       "      <td>-0.0439</td>\n",
       "      <td>-0.0241</td>\n",
       "      <td>0.0972</td>\n",
       "      <td>10591.877177</td>\n",
       "      <td>0.002552</td>\n",
       "      <td>0.069165</td>\n",
       "      <td>0.090166</td>\n",
       "      <td>-0.016608</td>\n",
       "      <td>-0.071980</td>\n",
       "    </tr>\n",
       "    <tr>\n",
       "      <th>3</th>\n",
       "      <td>12109.299348</td>\n",
       "      <td>1.0</td>\n",
       "      <td>3.0</td>\n",
       "      <td>9299.841075</td>\n",
       "      <td>9943.648622</td>\n",
       "      <td>-0.0607</td>\n",
       "      <td>0.0918</td>\n",
       "      <td>-0.1601</td>\n",
       "      <td>-0.0418</td>\n",
       "      <td>-0.0133</td>\n",
       "      <td>0.0877</td>\n",
       "      <td>10592.008336</td>\n",
       "      <td>0.079391</td>\n",
       "      <td>0.029959</td>\n",
       "      <td>-0.098036</td>\n",
       "      <td>0.062493</td>\n",
       "      <td>0.024105</td>\n",
       "    </tr>\n",
       "    <tr>\n",
       "      <th>4</th>\n",
       "      <td>12072.330305</td>\n",
       "      <td>1.0</td>\n",
       "      <td>4.0</td>\n",
       "      <td>9297.870869</td>\n",
       "      <td>9925.640852</td>\n",
       "      <td>-0.0706</td>\n",
       "      <td>0.0873</td>\n",
       "      <td>-0.1482</td>\n",
       "      <td>-0.0313</td>\n",
       "      <td>-0.0118</td>\n",
       "      <td>0.0712</td>\n",
       "      <td>10570.445905</td>\n",
       "      <td>0.075471</td>\n",
       "      <td>-0.030123</td>\n",
       "      <td>0.084739</td>\n",
       "      <td>0.088217</td>\n",
       "      <td>0.012996</td>\n",
       "    </tr>\n",
       "    <tr>\n",
       "      <th>5</th>\n",
       "      <td>12044.996807</td>\n",
       "      <td>1.0</td>\n",
       "      <td>5.0</td>\n",
       "      <td>9309.868979</td>\n",
       "      <td>9913.370020</td>\n",
       "      <td>-0.0598</td>\n",
       "      <td>0.0952</td>\n",
       "      <td>-0.1448</td>\n",
       "      <td>-0.0454</td>\n",
       "      <td>-0.0132</td>\n",
       "      <td>0.0750</td>\n",
       "      <td>10548.447088</td>\n",
       "      <td>0.131266</td>\n",
       "      <td>0.043751</td>\n",
       "      <td>0.103500</td>\n",
       "      <td>0.065657</td>\n",
       "      <td>-0.010882</td>\n",
       "    </tr>\n",
       "    <tr>\n",
       "      <th>6</th>\n",
       "      <td>12087.832493</td>\n",
       "      <td>1.0</td>\n",
       "      <td>6.0</td>\n",
       "      <td>9310.241007</td>\n",
       "      <td>9905.494708</td>\n",
       "      <td>-0.0676</td>\n",
       "      <td>0.0942</td>\n",
       "      <td>-0.1547</td>\n",
       "      <td>-0.0552</td>\n",
       "      <td>-0.0065</td>\n",
       "      <td>0.0898</td>\n",
       "      <td>10535.495426</td>\n",
       "      <td>0.123215</td>\n",
       "      <td>-0.020961</td>\n",
       "      <td>0.009604</td>\n",
       "      <td>0.203578</td>\n",
       "      <td>-0.001587</td>\n",
       "    </tr>\n",
       "    <tr>\n",
       "      <th>7</th>\n",
       "      <td>12040.245975</td>\n",
       "      <td>1.0</td>\n",
       "      <td>7.0</td>\n",
       "      <td>9318.777316</td>\n",
       "      <td>9904.751785</td>\n",
       "      <td>-0.0758</td>\n",
       "      <td>0.0984</td>\n",
       "      <td>-0.1404</td>\n",
       "      <td>-0.0450</td>\n",
       "      <td>-0.0132</td>\n",
       "      <td>0.0968</td>\n",
       "      <td>10547.804147</td>\n",
       "      <td>0.033187</td>\n",
       "      <td>-0.004375</td>\n",
       "      <td>0.189657</td>\n",
       "      <td>0.085533</td>\n",
       "      <td>-0.035859</td>\n",
       "    </tr>\n",
       "    <tr>\n",
       "      <th>8</th>\n",
       "      <td>12090.141606</td>\n",
       "      <td>1.0</td>\n",
       "      <td>8.0</td>\n",
       "      <td>9316.941356</td>\n",
       "      <td>9932.068866</td>\n",
       "      <td>-0.0715</td>\n",
       "      <td>0.0939</td>\n",
       "      <td>-0.1288</td>\n",
       "      <td>-0.0517</td>\n",
       "      <td>-0.0186</td>\n",
       "      <td>0.1002</td>\n",
       "      <td>10578.658689</td>\n",
       "      <td>0.038133</td>\n",
       "      <td>0.086558</td>\n",
       "      <td>0.083204</td>\n",
       "      <td>-0.142444</td>\n",
       "      <td>0.027485</td>\n",
       "    </tr>\n",
       "    <tr>\n",
       "      <th>9</th>\n",
       "      <td>12128.086285</td>\n",
       "      <td>1.0</td>\n",
       "      <td>9.0</td>\n",
       "      <td>9325.494202</td>\n",
       "      <td>9947.690268</td>\n",
       "      <td>-0.0473</td>\n",
       "      <td>0.0853</td>\n",
       "      <td>-0.1425</td>\n",
       "      <td>-0.0486</td>\n",
       "      <td>-0.0117</td>\n",
       "      <td>0.0855</td>\n",
       "      <td>10595.251669</td>\n",
       "      <td>-0.029594</td>\n",
       "      <td>-0.003868</td>\n",
       "      <td>-0.063114</td>\n",
       "      <td>0.049362</td>\n",
       "      <td>-0.038318</td>\n",
       "    </tr>\n",
       "  </tbody>\n",
       "</table>\n",
       "</div>"
      ],
      "text/plain": [
       "            csf  constant  linearTrend           wm       global  \\\n",
       "0  12140.708282       1.0          0.0  9322.722489  9955.469315   \n",
       "1  12123.146913       1.0          1.0  9314.257684  9947.987176   \n",
       "2  12085.963127       1.0          2.0  9319.610045  9945.132852   \n",
       "3  12109.299348       1.0          3.0  9299.841075  9943.648622   \n",
       "4  12072.330305       1.0          4.0  9297.870869  9925.640852   \n",
       "5  12044.996807       1.0          5.0  9309.868979  9913.370020   \n",
       "6  12087.832493       1.0          6.0  9310.241007  9905.494708   \n",
       "7  12040.245975       1.0          7.0  9318.777316  9904.751785   \n",
       "8  12090.141606       1.0          8.0  9316.941356  9932.068866   \n",
       "9  12128.086285       1.0          9.0  9325.494202  9947.690268   \n",
       "\n",
       "   motion-pitch  motion-roll  motion-yaw  motion-x  motion-y  motion-z  \\\n",
       "0       -0.0637       0.1032     -0.1516   -0.0376   -0.0112    0.0840   \n",
       "1       -0.0708       0.0953     -0.1562   -0.0198    0.0021    0.0722   \n",
       "2       -0.0795       0.0971     -0.1453   -0.0439   -0.0241    0.0972   \n",
       "3       -0.0607       0.0918     -0.1601   -0.0418   -0.0133    0.0877   \n",
       "4       -0.0706       0.0873     -0.1482   -0.0313   -0.0118    0.0712   \n",
       "5       -0.0598       0.0952     -0.1448   -0.0454   -0.0132    0.0750   \n",
       "6       -0.0676       0.0942     -0.1547   -0.0552   -0.0065    0.0898   \n",
       "7       -0.0758       0.0984     -0.1404   -0.0450   -0.0132    0.0968   \n",
       "8       -0.0715       0.0939     -0.1288   -0.0517   -0.0186    0.1002   \n",
       "9       -0.0473       0.0853     -0.1425   -0.0486   -0.0117    0.0855   \n",
       "\n",
       "             gm  compcor1  compcor2  compcor3  compcor4  compcor5  \n",
       "0  10617.938409 -0.035058 -0.006713 -0.071532  0.009847 -0.027601  \n",
       "1  10611.036827 -0.026949 -0.091152 -0.030126  0.020055 -0.099798  \n",
       "2  10591.877177  0.002552  0.069165  0.090166 -0.016608 -0.071980  \n",
       "3  10592.008336  0.079391  0.029959 -0.098036  0.062493  0.024105  \n",
       "4  10570.445905  0.075471 -0.030123  0.084739  0.088217  0.012996  \n",
       "5  10548.447088  0.131266  0.043751  0.103500  0.065657 -0.010882  \n",
       "6  10535.495426  0.123215 -0.020961  0.009604  0.203578 -0.001587  \n",
       "7  10547.804147  0.033187 -0.004375  0.189657  0.085533 -0.035859  \n",
       "8  10578.658689  0.038133  0.086558  0.083204 -0.142444  0.027485  \n",
       "9  10595.251669 -0.029594 -0.003868 -0.063114  0.049362 -0.038318  "
      ]
     },
     "execution_count": 46,
     "metadata": {},
     "output_type": "execute_result"
    }
   ],
   "source": [
    "data_loaded.head(n=10)"
   ]
  },
  {
   "cell_type": "code",
   "execution_count": 56,
   "id": "da93aab7",
   "metadata": {
    "scrolled": true
   },
   "outputs": [
    {
     "data": {
      "text/plain": [
       "['data/adhd/ADHD200_40subs_motion_parameters_and_phenotypics.csv']"
      ]
     },
     "execution_count": 56,
     "metadata": {},
     "output_type": "execute_result"
    }
   ],
   "source": [
    "data_file_pheno = glob('data/adhd/ADHD200_40subs_motion*.csv')\n",
    "data_file_pheno"
   ]
  },
  {
   "cell_type": "code",
   "execution_count": 58,
   "id": "329b51d5",
   "metadata": {},
   "outputs": [
    {
     "data": {
      "text/html": [
       "<div>\n",
       "<style scoped>\n",
       "    .dataframe tbody tr th:only-of-type {\n",
       "        vertical-align: middle;\n",
       "    }\n",
       "\n",
       "    .dataframe tbody tr th {\n",
       "        vertical-align: top;\n",
       "    }\n",
       "\n",
       "    .dataframe thead th {\n",
       "        text-align: right;\n",
       "    }\n",
       "</style>\n",
       "<table border=\"1\" class=\"dataframe\">\n",
       "  <thead>\n",
       "    <tr style=\"text-align: right;\">\n",
       "      <th></th>\n",
       "      <th>Unnamed: 0</th>\n",
       "      <th>Subject</th>\n",
       "      <th>Rest.Scan</th>\n",
       "      <th>MeanFD</th>\n",
       "      <th>NumFD_greater_than_0.20</th>\n",
       "      <th>rootMeanSquareFD</th>\n",
       "      <th>FDquartile.top1.4thFD.</th>\n",
       "      <th>PercentFD_greater_than_0.20</th>\n",
       "      <th>MeanDVARS</th>\n",
       "      <th>MeanFD_Jenkinson</th>\n",
       "      <th>...</th>\n",
       "      <th>sess_1_rest_6_eyes</th>\n",
       "      <th>sess_1_anat_1</th>\n",
       "      <th>sess_1_which_anat</th>\n",
       "      <th>sess_2_rest_1</th>\n",
       "      <th>sess_2_rest_1_eyes</th>\n",
       "      <th>sess_2_rest_2</th>\n",
       "      <th>sess_2_rest_2_eyes</th>\n",
       "      <th>sess_2_anat_1</th>\n",
       "      <th>defacing_ok</th>\n",
       "      <th>defacing_notes</th>\n",
       "    </tr>\n",
       "  </thead>\n",
       "  <tbody>\n",
       "    <tr>\n",
       "      <th>0</th>\n",
       "      <td>1</td>\n",
       "      <td>2014113</td>\n",
       "      <td>rest_1</td>\n",
       "      <td>0.0576</td>\n",
       "      <td>2</td>\n",
       "      <td>0.2400</td>\n",
       "      <td>0.0944</td>\n",
       "      <td>1.6000</td>\n",
       "      <td>16.1677</td>\n",
       "      <td>1.3868</td>\n",
       "      <td>...</td>\n",
       "      <td>NaN</td>\n",
       "      <td>pass</td>\n",
       "      <td>NaN</td>\n",
       "      <td>NaN</td>\n",
       "      <td>NaN</td>\n",
       "      <td>NaN</td>\n",
       "      <td>NaN</td>\n",
       "      <td>NaN</td>\n",
       "      <td>yes</td>\n",
       "      <td>NaN</td>\n",
       "    </tr>\n",
       "    <tr>\n",
       "      <th>1</th>\n",
       "      <td>2</td>\n",
       "      <td>3902469</td>\n",
       "      <td>rest_1</td>\n",
       "      <td>0.0580</td>\n",
       "      <td>0</td>\n",
       "      <td>0.2409</td>\n",
       "      <td>0.0931</td>\n",
       "      <td>0.0000</td>\n",
       "      <td>17.4188</td>\n",
       "      <td>1.2040</td>\n",
       "      <td>...</td>\n",
       "      <td>NaN</td>\n",
       "      <td>pass</td>\n",
       "      <td>NaN</td>\n",
       "      <td>NaN</td>\n",
       "      <td>NaN</td>\n",
       "      <td>NaN</td>\n",
       "      <td>NaN</td>\n",
       "      <td>NaN</td>\n",
       "      <td>NaN</td>\n",
       "      <td>NaN</td>\n",
       "    </tr>\n",
       "    <tr>\n",
       "      <th>2</th>\n",
       "      <td>3</td>\n",
       "      <td>4275075</td>\n",
       "      <td>rest_1</td>\n",
       "      <td>0.0789</td>\n",
       "      <td>0</td>\n",
       "      <td>0.2808</td>\n",
       "      <td>0.1520</td>\n",
       "      <td>0.0000</td>\n",
       "      <td>17.7796</td>\n",
       "      <td>1.8105</td>\n",
       "      <td>...</td>\n",
       "      <td>NaN</td>\n",
       "      <td>pass</td>\n",
       "      <td>NaN</td>\n",
       "      <td>NaN</td>\n",
       "      <td>NaN</td>\n",
       "      <td>NaN</td>\n",
       "      <td>NaN</td>\n",
       "      <td>NaN</td>\n",
       "      <td>NaN</td>\n",
       "      <td>NaN</td>\n",
       "    </tr>\n",
       "    <tr>\n",
       "      <th>3</th>\n",
       "      <td>4</td>\n",
       "      <td>7774305</td>\n",
       "      <td>rest_1</td>\n",
       "      <td>0.0679</td>\n",
       "      <td>0</td>\n",
       "      <td>0.2606</td>\n",
       "      <td>0.1054</td>\n",
       "      <td>0.0000</td>\n",
       "      <td>16.7169</td>\n",
       "      <td>1.5137</td>\n",
       "      <td>...</td>\n",
       "      <td>NaN</td>\n",
       "      <td>pass</td>\n",
       "      <td>NaN</td>\n",
       "      <td>NaN</td>\n",
       "      <td>NaN</td>\n",
       "      <td>NaN</td>\n",
       "      <td>NaN</td>\n",
       "      <td>NaN</td>\n",
       "      <td>yes</td>\n",
       "      <td>defaced part of front skull/brain</td>\n",
       "    </tr>\n",
       "    <tr>\n",
       "      <th>4</th>\n",
       "      <td>5</td>\n",
       "      <td>1019436</td>\n",
       "      <td>rest_1</td>\n",
       "      <td>0.0904</td>\n",
       "      <td>0</td>\n",
       "      <td>0.3006</td>\n",
       "      <td>0.1927</td>\n",
       "      <td>0.0000</td>\n",
       "      <td>19.6124</td>\n",
       "      <td>1.6769</td>\n",
       "      <td>...</td>\n",
       "      <td>NaN</td>\n",
       "      <td>pass</td>\n",
       "      <td>NaN</td>\n",
       "      <td>NaN</td>\n",
       "      <td>NaN</td>\n",
       "      <td>NaN</td>\n",
       "      <td>NaN</td>\n",
       "      <td>NaN</td>\n",
       "      <td>yes</td>\n",
       "      <td>NaN</td>\n",
       "    </tr>\n",
       "    <tr>\n",
       "      <th>5</th>\n",
       "      <td>6</td>\n",
       "      <td>3699991</td>\n",
       "      <td>rest_1</td>\n",
       "      <td>0.1113</td>\n",
       "      <td>15</td>\n",
       "      <td>0.3337</td>\n",
       "      <td>0.2524</td>\n",
       "      <td>9.8039</td>\n",
       "      <td>19.8704</td>\n",
       "      <td>2.6121</td>\n",
       "      <td>...</td>\n",
       "      <td>NaN</td>\n",
       "      <td>pass</td>\n",
       "      <td>NaN</td>\n",
       "      <td>NaN</td>\n",
       "      <td>NaN</td>\n",
       "      <td>NaN</td>\n",
       "      <td>NaN</td>\n",
       "      <td>NaN</td>\n",
       "      <td>NaN</td>\n",
       "      <td>NaN</td>\n",
       "    </tr>\n",
       "    <tr>\n",
       "      <th>6</th>\n",
       "      <td>7</td>\n",
       "      <td>3154996</td>\n",
       "      <td>rest_1</td>\n",
       "      <td>0.0881</td>\n",
       "      <td>0</td>\n",
       "      <td>0.2968</td>\n",
       "      <td>0.1619</td>\n",
       "      <td>0.0000</td>\n",
       "      <td>18.6120</td>\n",
       "      <td>1.8118</td>\n",
       "      <td>...</td>\n",
       "      <td>NaN</td>\n",
       "      <td>NaN</td>\n",
       "      <td>1.0</td>\n",
       "      <td>NaN</td>\n",
       "      <td>NaN</td>\n",
       "      <td>NaN</td>\n",
       "      <td>NaN</td>\n",
       "      <td>NaN</td>\n",
       "      <td>NaN</td>\n",
       "      <td>NaN</td>\n",
       "    </tr>\n",
       "    <tr>\n",
       "      <th>7</th>\n",
       "      <td>8</td>\n",
       "      <td>3884955</td>\n",
       "      <td>rest_1</td>\n",
       "      <td>0.0988</td>\n",
       "      <td>8</td>\n",
       "      <td>0.3144</td>\n",
       "      <td>0.1881</td>\n",
       "      <td>6.4000</td>\n",
       "      <td>17.3609</td>\n",
       "      <td>1.9543</td>\n",
       "      <td>...</td>\n",
       "      <td>NaN</td>\n",
       "      <td>pass</td>\n",
       "      <td>NaN</td>\n",
       "      <td>NaN</td>\n",
       "      <td>NaN</td>\n",
       "      <td>NaN</td>\n",
       "      <td>NaN</td>\n",
       "      <td>NaN</td>\n",
       "      <td>NaN</td>\n",
       "      <td>NaN</td>\n",
       "    </tr>\n",
       "    <tr>\n",
       "      <th>8</th>\n",
       "      <td>9</td>\n",
       "      <td>27034</td>\n",
       "      <td>rest_1</td>\n",
       "      <td>0.0484</td>\n",
       "      <td>1</td>\n",
       "      <td>0.2201</td>\n",
       "      <td>0.0860</td>\n",
       "      <td>0.3831</td>\n",
       "      <td>21.5895</td>\n",
       "      <td>0.9262</td>\n",
       "      <td>...</td>\n",
       "      <td>NaN</td>\n",
       "      <td>pass</td>\n",
       "      <td>NaN</td>\n",
       "      <td>NaN</td>\n",
       "      <td>NaN</td>\n",
       "      <td>NaN</td>\n",
       "      <td>NaN</td>\n",
       "      <td>NaN</td>\n",
       "      <td>NaN</td>\n",
       "      <td>NaN</td>\n",
       "    </tr>\n",
       "    <tr>\n",
       "      <th>9</th>\n",
       "      <td>10</td>\n",
       "      <td>4134561</td>\n",
       "      <td>rest_1</td>\n",
       "      <td>0.0439</td>\n",
       "      <td>4</td>\n",
       "      <td>0.2095</td>\n",
       "      <td>0.0849</td>\n",
       "      <td>1.5267</td>\n",
       "      <td>25.0028</td>\n",
       "      <td>0.9207</td>\n",
       "      <td>...</td>\n",
       "      <td>NaN</td>\n",
       "      <td>pass</td>\n",
       "      <td>NaN</td>\n",
       "      <td>NaN</td>\n",
       "      <td>NaN</td>\n",
       "      <td>NaN</td>\n",
       "      <td>NaN</td>\n",
       "      <td>NaN</td>\n",
       "      <td>yes</td>\n",
       "      <td>NaN</td>\n",
       "    </tr>\n",
       "  </tbody>\n",
       "</table>\n",
       "<p>10 rows × 65 columns</p>\n",
       "</div>"
      ],
      "text/plain": [
       "   Unnamed: 0  Subject Rest.Scan  MeanFD  NumFD_greater_than_0.20  \\\n",
       "0           1  2014113    rest_1  0.0576                        2   \n",
       "1           2  3902469    rest_1  0.0580                        0   \n",
       "2           3  4275075    rest_1  0.0789                        0   \n",
       "3           4  7774305    rest_1  0.0679                        0   \n",
       "4           5  1019436    rest_1  0.0904                        0   \n",
       "5           6  3699991    rest_1  0.1113                       15   \n",
       "6           7  3154996    rest_1  0.0881                        0   \n",
       "7           8  3884955    rest_1  0.0988                        8   \n",
       "8           9    27034    rest_1  0.0484                        1   \n",
       "9          10  4134561    rest_1  0.0439                        4   \n",
       "\n",
       "   rootMeanSquareFD  FDquartile.top1.4thFD.  PercentFD_greater_than_0.20  \\\n",
       "0            0.2400                  0.0944                       1.6000   \n",
       "1            0.2409                  0.0931                       0.0000   \n",
       "2            0.2808                  0.1520                       0.0000   \n",
       "3            0.2606                  0.1054                       0.0000   \n",
       "4            0.3006                  0.1927                       0.0000   \n",
       "5            0.3337                  0.2524                       9.8039   \n",
       "6            0.2968                  0.1619                       0.0000   \n",
       "7            0.3144                  0.1881                       6.4000   \n",
       "8            0.2201                  0.0860                       0.3831   \n",
       "9            0.2095                  0.0849                       1.5267   \n",
       "\n",
       "   MeanDVARS  MeanFD_Jenkinson  ... sess_1_rest_6_eyes  sess_1_anat_1  \\\n",
       "0    16.1677            1.3868  ...                NaN           pass   \n",
       "1    17.4188            1.2040  ...                NaN           pass   \n",
       "2    17.7796            1.8105  ...                NaN           pass   \n",
       "3    16.7169            1.5137  ...                NaN           pass   \n",
       "4    19.6124            1.6769  ...                NaN           pass   \n",
       "5    19.8704            2.6121  ...                NaN           pass   \n",
       "6    18.6120            1.8118  ...                NaN            NaN   \n",
       "7    17.3609            1.9543  ...                NaN           pass   \n",
       "8    21.5895            0.9262  ...                NaN           pass   \n",
       "9    25.0028            0.9207  ...                NaN           pass   \n",
       "\n",
       "  sess_1_which_anat  sess_2_rest_1 sess_2_rest_1_eyes sess_2_rest_2  \\\n",
       "0               NaN            NaN                NaN           NaN   \n",
       "1               NaN            NaN                NaN           NaN   \n",
       "2               NaN            NaN                NaN           NaN   \n",
       "3               NaN            NaN                NaN           NaN   \n",
       "4               NaN            NaN                NaN           NaN   \n",
       "5               NaN            NaN                NaN           NaN   \n",
       "6               1.0            NaN                NaN           NaN   \n",
       "7               NaN            NaN                NaN           NaN   \n",
       "8               NaN            NaN                NaN           NaN   \n",
       "9               NaN            NaN                NaN           NaN   \n",
       "\n",
       "   sess_2_rest_2_eyes  sess_2_anat_1  defacing_ok  \\\n",
       "0                 NaN            NaN          yes   \n",
       "1                 NaN            NaN          NaN   \n",
       "2                 NaN            NaN          NaN   \n",
       "3                 NaN            NaN          yes   \n",
       "4                 NaN            NaN          yes   \n",
       "5                 NaN            NaN          NaN   \n",
       "6                 NaN            NaN          NaN   \n",
       "7                 NaN            NaN          NaN   \n",
       "8                 NaN            NaN          NaN   \n",
       "9                 NaN            NaN          yes   \n",
       "\n",
       "                      defacing_notes  \n",
       "0                                NaN  \n",
       "1                                NaN  \n",
       "2                                NaN  \n",
       "3  defaced part of front skull/brain  \n",
       "4                                NaN  \n",
       "5                                NaN  \n",
       "6                                NaN  \n",
       "7                                NaN  \n",
       "8                                NaN  \n",
       "9                                NaN  \n",
       "\n",
       "[10 rows x 65 columns]"
      ]
     },
     "execution_count": 58,
     "metadata": {},
     "output_type": "execute_result"
    }
   ],
   "source": [
    "data_pheno = pd.read_csv(data_file_pheno[0])\n",
    "data_pheno.head(n=10)"
   ]
  },
  {
   "cell_type": "code",
   "execution_count": 130,
   "id": "34ad6158",
   "metadata": {},
   "outputs": [
    {
     "data": {
      "text/plain": [
       "Index(['Unnamed: 0', 'Subject', 'Rest.Scan', 'MeanFD',\n",
       "       'NumFD_greater_than_0.20', 'rootMeanSquareFD', 'FDquartile.top1.4thFD.',\n",
       "       'PercentFD_greater_than_0.20', 'MeanDVARS', 'MeanFD_Jenkinson', 'site',\n",
       "       'sibling_id', 'data_set', 'age', 'sex', 'handedness', 'full_2_iq',\n",
       "       'full_4_iq', 'viq', 'piq', 'iq_measure', 'tdc', 'adhd',\n",
       "       'adhd_inattentive', 'adhd_combined', 'adhd_subthreshold',\n",
       "       'diagnosis_using_cdis', 'notes', 'sess_1_anat_2', 'oppositional',\n",
       "       'cog_inatt', 'hyperac', 'anxious_shy', 'perfectionism',\n",
       "       'social_problems', 'psychosomatic', 'conn_adhd', 'restless_impulsive',\n",
       "       'emot_lability', 'conn_gi_tot', 'dsm_iv_inatt', 'dsm_iv_h_i',\n",
       "       'dsm_iv_tot', 'study', 'sess_1_rest_1', 'sess_1_rest_1_eyes',\n",
       "       'sess_1_rest_2', 'sess_1_rest_2_eyes', 'sess_1_rest_3',\n",
       "       'sess_1_rest_3_eyes', 'sess_1_rest_4', 'sess_1_rest_4_eyes',\n",
       "       'sess_1_rest_5', 'sess_1_rest_5_eyes', 'sess_1_rest_6',\n",
       "       'sess_1_rest_6_eyes', 'sess_1_anat_1', 'sess_1_which_anat',\n",
       "       'sess_2_rest_1', 'sess_2_rest_1_eyes', 'sess_2_rest_2',\n",
       "       'sess_2_rest_2_eyes', 'sess_2_anat_1', 'defacing_ok', 'defacing_notes'],\n",
       "      dtype='object')"
      ]
     },
     "execution_count": 130,
     "metadata": {},
     "output_type": "execute_result"
    }
   ],
   "source": [
    "data_pheno.columns"
   ]
  },
  {
   "cell_type": "code",
   "execution_count": 120,
   "id": "1f9dfb24",
   "metadata": {},
   "outputs": [
    {
     "name": "stdout",
     "output_type": "stream",
     "text": [
      "[2014113.0, 3902469.0, 4275075.0, 7774305.0, 1019436.0, 3699991.0, 3154996.0, 3884955.0, 27034.0, 4134561.0, 27018.0, 6115230.0, 27037.0, 8409791.0, 27011.0, 3007585.0, 8697774.0, 9750701.0, 10064.0, 21019.0, 10042.0, 10128.0, 2497695.0, 4164316.0, 1552181.0, 4046678.0, 23012.0, 1679142.0, 1206380.0, 23008.0, 4016887.0, 1418396.0, 2950754.0, 3994098.0, 3520880.0, 1517058.0, 9744150.0, 1562298.0, 3205761.0, 3624598.0]\n"
     ]
    }
   ],
   "source": [
    "from numpy import loadtxt\n",
    "\n",
    "sub_idx = list(loadtxt(\"data/adhd/ADHD200_40subs_ID.txt\"))\n",
    "print(sub_idx)"
   ]
  },
  {
   "cell_type": "code",
   "execution_count": 122,
   "id": "af575970",
   "metadata": {},
   "outputs": [
    {
     "name": "stdout",
     "output_type": "stream",
     "text": [
      "[2014113, 3902469, 4275075, 7774305, 1019436, 3699991, 3154996, 3884955, 27034, 4134561, 27018, 6115230, 27037, 8409791, 27011, 3007585, 8697774, 9750701, 10064, 21019, 10042, 10128, 2497695, 4164316, 1552181, 4046678, 23012, 1679142, 1206380, 23008, 4016887, 1418396, 2950754, 3994098, 3520880, 1517058, 9744150, 1562298, 3205761, 3624598]\n"
     ]
    }
   ],
   "source": [
    "sub_idx = [int(i) for i in sub_idx]\n",
    "print(sub_idx)"
   ]
  },
  {
   "cell_type": "code",
   "execution_count": 123,
   "id": "addf618c",
   "metadata": {},
   "outputs": [
    {
     "name": "stdout",
     "output_type": "stream",
     "text": [
      "['2014113', '3902469', '4275075', '7774305', '1019436', '3699991', '3154996', '3884955', '27034', '4134561', '27018', '6115230', '27037', '8409791', '27011', '3007585', '8697774', '9750701', '10064', '21019', '10042', '10128', '2497695', '4164316', '1552181', '4046678', '23012', '1679142', '1206380', '23008', '4016887', '1418396', '2950754', '3994098', '3520880', '1517058', '9744150', '1562298', '3205761', '3624598']\n"
     ]
    }
   ],
   "source": [
    "sub_idx = [str(i) for i in sub_idx]\n",
    "print(sub_idx)"
   ]
  },
  {
   "cell_type": "code",
   "execution_count": 125,
   "id": "be897692",
   "metadata": {},
   "outputs": [],
   "source": [
    "# Path to resting state files\n",
    "rest_files = ['/data/adhd/data/%s/%s_rest_tshift_RPI_voreg_mni.nii.gz' % (sub, sub) for sub in sub_idx]"
   ]
  },
  {
   "cell_type": "code",
   "execution_count": 127,
   "id": "25535f2b",
   "metadata": {},
   "outputs": [],
   "source": [
    "# Path to counfound files\n",
    "confound_files = ['/data/adhd/data/%s/%s_regressors.csv' % (sub, sub) for sub in sub_idx]"
   ]
  }
 ],
 "metadata": {
  "kernelspec": {
   "display_name": "neuro_ai",
   "language": "python",
   "name": "neuro_ai"
  },
  "language_info": {
   "codemirror_mode": {
    "name": "ipython",
    "version": 3
   },
   "file_extension": ".py",
   "mimetype": "text/x-python",
   "name": "python",
   "nbconvert_exporter": "python",
   "pygments_lexer": "ipython3",
   "version": "3.7.0"
  }
 },
 "nbformat": 4,
 "nbformat_minor": 5
}
