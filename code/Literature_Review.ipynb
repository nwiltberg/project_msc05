{
 "cells": [
  {
   "cell_type": "markdown",
   "id": "74b29e8f",
   "metadata": {},
   "source": [
    "## Introduction and Conception of the Research Question"
   ]
  },
  {
   "cell_type": "markdown",
   "id": "4790f32c",
   "metadata": {},
   "source": [
    "With a prevalence between 5.9 and 7.1 % in children ([Willcutt, 2012](https://pubmed.ncbi.nlm.nih.gov/22976615/)), Attention-deficit/hyperactivity disorder (ADHD) is the most common childhood-onset disorder. It is characterized by symptoms of inattention, hyperactivity and also impulsiveness ([American Psychiatric Association, 2013](https://psycnet-apa-org.proxy.ub.uni-frankfurt.de/doi/10.1176/appi.books.9780890425596)). Affected children have, for example, difficulties in concentrating and organizing, are easily distracted, fidget a lot or are constantly on the move. Regarding the diagnosis of ADHD, three subtypes are distinguished: the inattentive subtype, the hyperactive-impulsive subtype and the combined subtype. While the first two show symptoms specific to each subtype, the combined subtype show symptoms of inattention as well as impulsiveness and hyperactivity. The diagnosis of ADHD is usually made using diagnostic questionnaires like the [Vanderbilt Assessment Scale](https://www.nichq.org/sites/default/files/resource-file/NICHQ-Vanderbilt-Assessment-Scales.pdf).\n",
    "\n",
    "\n",
    "While it used to be assumed that ADHD was a behavioral disorder, it is now undisputed that the disorder has a neurological basis. In the last few years, a large number of studies have dealt with the question of how patients with ADHD differ in their functional connectivity from neurotypical people. Functional connectivity refers to different techniques for identifying patterns of brain activity between different brain regions ([Fox & Raichle, 2007](https://www.nature.com/articles/nrn2201)). In studies about ADHD, functional connectivity is often measured at rest using functional magnetic resonance imaging (fMRI) and these studies usually consider large scale networks. The results of these studies are partly inconsistent. While [Castellanos et al. (2008)](https://doi-org.proxy.ub.uni-frankfurt.de/10.1016%2Fj.biopsych.2007.06.025) found decreased connectivity between different subregions of the default-mode network (DMN) in patients with ADHD, studies like the one of [McCarthy et al. (2013)](https://jamanetwork.com/journals/jamapsychiatry/fullarticle/1756814) found increased connectivity within the DMN. And there are also contradictory study results with regard to the frontoparietal network (FPN) and the attention network ([Lin & Gau, 2016](https://www-ncbi-nlm-nih-gov.proxy.ub.uni-frankfurt.de/pmc/articles/PMC4815465/), [Mostert et al., 2016](https://doi-org.proxy.ub.uni-frankfurt.de/10.1016%2Fj.pnpbp.2016.01.011)).\n",
    "\n",
    "In a meta-analysis, Gao et al. aim at organizing the many different research results regarding resting-state functional connectivity in patients with ADHD ([2019](https://doi.org/10.1017/S003329171900237X)). Their analysis included 21 studies with a total of 700 ADHD patients and 580 controls. The results show a hyperconnectivity between the FPN, regions of the DMN and the affective network (AN) and a hypoconnectivity between the FPN, regions of the ventral attention network (VAN) and the somatosensory network. They conclude that these altered connectivities could be linked to certain symptoms of ADHD. The functional alteration between the FPN and the DMN may underlie ADHD-typical mind-wandering. A hypoconnectivity between the FPN and the VAN could be the cause for inappropriate behavioral responses to salient stimuly and therefor lead to inattention. Furthermore, the impairments between the FPN and the somatosensory network may be linked to deficits in motor inhibition control in ADHD and the hyperconnectivity between the AN and regions of the DMN and the FPN could lead to impulsive behavior and emotion dysregulation.\n",
    "\n",
    "As mentioned above, the subtypes of ADHD differ in terms of symptoms. So the results of the meta-analysis of [Gao et al. (2019)](https://doi.org/10.1017/S003329171900237X) lead to the question if those subtype differ regarding the alterations of the functional connectivity between large scale networks. This is where this project comes in.\n",
    "\n",
    "The aim of this project is to investigate the functional connectivity between large scale networks in patients with ADHD using artifical intelligence. In a first step, supervised learning algorithms will be used to to predict the diagnosis of subjects based on the abnormalities they show in functional connectivity. Afterwards, an unsupervised learning algorithm will be used to cluster the data into subgroupes regardless of the diagnosis of the subjects. To answer the research question, pre-processed data from the [ADHD-200 sample](http://preprocessed-connectomes-project.org/adhd200/) will be used.\n"
   ]
  }
 ],
 "metadata": {
  "kernelspec": {
   "display_name": "neuro_ai",
   "language": "python",
   "name": "neuro_ai"
  },
  "language_info": {
   "codemirror_mode": {
    "name": "ipython",
    "version": 3
   },
   "file_extension": ".py",
   "mimetype": "text/x-python",
   "name": "python",
   "nbconvert_exporter": "python",
   "pygments_lexer": "ipython3",
   "version": "3.7.0"
  }
 },
 "nbformat": 4,
 "nbformat_minor": 5
}
