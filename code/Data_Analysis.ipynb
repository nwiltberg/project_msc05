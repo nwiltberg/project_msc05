{
 "cells": [
  {
   "cell_type": "markdown",
   "id": "e037ea8c",
   "metadata": {},
   "source": [
    "# Data Analysis"
   ]
  },
  {
   "cell_type": "markdown",
   "id": "e88704f1",
   "metadata": {},
   "source": [
    "## 0. Recap Data"
   ]
  },
  {
   "cell_type": "code",
   "execution_count": 1,
   "id": "3936bf9c",
   "metadata": {},
   "outputs": [],
   "source": [
    "import nilearn\n",
    "from nilearn import datasets\n",
    "import pandas as pd\n",
    "from glob import glob\n",
    "from nilearn.maskers import NiftiLabelsMasker\n",
    "from nilearn.connectome import ConnectivityMeasure"
   ]
  },
  {
   "cell_type": "code",
   "execution_count": 4,
   "id": "aa937da3",
   "metadata": {},
   "outputs": [],
   "source": [
    "# Load the open data set ADHD 200 from nilearn\n",
    "data = nilearn.datasets.fetch_adhd(n_subjects=40, data_dir='/mnt/c/Users/nasta/Desktop/Forschungsmodul/project_msc05/data', url=None, resume=True, verbose=1)"
   ]
  },
  {
   "cell_type": "code",
   "execution_count": 5,
   "id": "d305d333",
   "metadata": {},
   "outputs": [
    {
     "data": {
      "text/plain": [
       "'/mnt/c/Users/nasta/Desktop/Forschungsmodul/project_msc05/data/adhd/data/0010042/0010042_rest_tshift_RPI_voreg_mni.nii.gz'"
      ]
     },
     "execution_count": 5,
     "metadata": {},
     "output_type": "execute_result"
    }
   ],
   "source": [
    "data['func'][0]"
   ]
  },
  {
   "cell_type": "code",
   "execution_count": 6,
   "id": "8a54110b",
   "metadata": {},
   "outputs": [
    {
     "data": {
      "text/plain": [
       "dict_keys(['func', 'confounds', 'phenotypic', 'description'])"
      ]
     },
     "execution_count": 6,
     "metadata": {},
     "output_type": "execute_result"
    }
   ],
   "source": [
    "data.keys()"
   ]
  },
  {
   "cell_type": "code",
   "execution_count": 7,
   "id": "682024f6",
   "metadata": {},
   "outputs": [
    {
     "data": {
      "text/plain": [
       "'/mnt/c/Users/nasta/Desktop/Forschungsmodul/project_msc05/data/adhd/data/0010042/0010042_regressors.csv'"
      ]
     },
     "execution_count": 7,
     "metadata": {},
     "output_type": "execute_result"
    }
   ],
   "source": [
    "data['confounds'][0]"
   ]
  },
  {
   "cell_type": "markdown",
   "id": "a4509419",
   "metadata": {},
   "source": [
    "## 1. Extracting time series"
   ]
  },
  {
   "cell_type": "code",
   "execution_count": 8,
   "id": "b6fc3a75",
   "metadata": {},
   "outputs": [],
   "source": [
    "# set variables\n",
    "rest_files = data['func'][0]\n",
    "confound_files = data['confounds'][0]"
   ]
  },
  {
   "cell_type": "code",
   "execution_count": 11,
   "id": "25af42e0",
   "metadata": {},
   "outputs": [],
   "source": [
    "# Get Yeo atlas\n",
    "atlas_yeo = datasets.fetch_atlas_yeo_2011(data_dir='/mnt/c/Users/nasta/Desktop/Forschungsmodul/project_msc05/data/yeo_atlas')"
   ]
  },
  {
   "cell_type": "code",
   "execution_count": 12,
   "id": "88dcc475",
   "metadata": {},
   "outputs": [],
   "source": [
    "# set atlas\n",
    "atlas_file = atlas_yeo.thick_7"
   ]
  },
  {
   "cell_type": "code",
   "execution_count": 13,
   "id": "cd27e131",
   "metadata": {},
   "outputs": [],
   "source": [
    "# define masker for time series extraction\n",
    "masker = NiftiLabelsMasker(labels_img=atlas_file, standardize=True, memory='nilearn_cache')"
   ]
  },
  {
   "cell_type": "code",
   "execution_count": 14,
   "id": "b78d1ec4",
   "metadata": {},
   "outputs": [],
   "source": [
    "# apply masker to extract time series\n",
    "time_series = masker.fit_transform(rest_files, confounds=confound_files)"
   ]
  },
  {
   "cell_type": "code",
   "execution_count": 15,
   "id": "26022cb6",
   "metadata": {},
   "outputs": [
    {
     "data": {
      "text/plain": [
       "(176, 7)"
      ]
     },
     "execution_count": 15,
     "metadata": {},
     "output_type": "execute_result"
    }
   ],
   "source": [
    "# evaluate time series\n",
    "time_series.shape"
   ]
  },
  {
   "cell_type": "code",
   "execution_count": 16,
   "id": "19362a48",
   "metadata": {},
   "outputs": [
    {
     "data": {
      "text/plain": [
       "array([[[-0.51034445, -0.29479277, -1.6705873 , ...,  0.28058898,\n",
       "         -0.71294105,  0.22904894],\n",
       "        [ 0.9958635 , -0.3302702 , -0.40546834, ..., -0.90956265,\n",
       "         -0.2500286 , -0.2580618 ],\n",
       "        [ 1.7991178 , -2.5736818 ,  0.18031912, ..., -0.574182  ,\n",
       "         -0.01597627, -0.85473424],\n",
       "        ...,\n",
       "        [ 0.7255313 , -1.2795805 ,  0.43343168, ..., -0.40040085,\n",
       "          0.865115  ,  0.51268786],\n",
       "        [ 2.5853388 , -1.439889  ,  1.5045828 , ..., -1.1568449 ,\n",
       "          1.2774026 , -0.49751338],\n",
       "        [ 2.8541226 , -1.6701623 ,  0.60753673, ..., -0.2558145 ,\n",
       "         -0.25552046, -1.1211945 ]]], dtype=float32)"
      ]
     },
     "execution_count": 16,
     "metadata": {},
     "output_type": "execute_result"
    }
   ],
   "source": [
    "# nilearn connectivity expects/wants time series stacked across participants (participants x time points x regions)\n",
    "# thus, we have to reshape our time series to introduce a respective new dimension \n",
    "time_series = time_series.reshape(1,176,7)\n",
    "time_series"
   ]
  },
  {
   "cell_type": "markdown",
   "id": "9e020c1f",
   "metadata": {},
   "source": [
    "## 2. Compute and display correlation matrix"
   ]
  },
  {
   "cell_type": "code",
   "execution_count": 17,
   "id": "57650bc9",
   "metadata": {},
   "outputs": [],
   "source": [
    "# setup and apply connectivity measure to compute connectivity of regions across time points\n",
    "connectome_measure = ConnectivityMeasure(kind='correlation')\n",
    "correlation_matrices = connectome_measure.fit_transform(time_series)"
   ]
  },
  {
   "cell_type": "code",
   "execution_count": 18,
   "id": "1263758e",
   "metadata": {},
   "outputs": [
    {
     "data": {
      "text/plain": [
       "(1, 7, 7)"
      ]
     },
     "execution_count": 18,
     "metadata": {},
     "output_type": "execute_result"
    }
   ],
   "source": [
    "# correlation matrix of course still has the extra dimension\n",
    "correlation_matrices.shape"
   ]
  },
  {
   "cell_type": "code",
   "execution_count": 19,
   "id": "3d3ce1c7",
   "metadata": {},
   "outputs": [
    {
     "data": {
      "text/plain": [
       "(7, 7)"
      ]
     },
     "execution_count": 19,
     "metadata": {},
     "output_type": "execute_result"
    }
   ],
   "source": [
    "# as we work with data of one participant right now, lets just drop it\n",
    "correlation_matrices = correlation_matrices.squeeze()\n",
    "correlation_matrices.shape"
   ]
  },
  {
   "cell_type": "code",
   "execution_count": 20,
   "id": "b58e608d",
   "metadata": {},
   "outputs": [
    {
     "data": {
      "text/plain": [
       "array([[ 1.        , -0.5145971 ,  0.16595417, -0.4575826 , -0.15901949,\n",
       "        -0.32257894, -0.16459793],\n",
       "       [-0.5145971 ,  1.        , -0.15548664,  0.64208764,  0.10796294,\n",
       "         0.07630513, -0.19502069],\n",
       "       [ 0.16595417, -0.15548664,  1.        , -0.11649854, -0.01312734,\n",
       "         0.06357163, -0.29489803],\n",
       "       [-0.4575826 ,  0.64208764, -0.11649854,  1.        ,  0.03280948,\n",
       "         0.24299005, -0.45543557],\n",
       "       [-0.15901949,  0.10796294, -0.01312734,  0.03280948,  1.        ,\n",
       "        -0.04724521,  0.05450457],\n",
       "       [-0.32257894,  0.07630513,  0.06357163,  0.24299005, -0.04724521,\n",
       "         1.        , -0.07549269],\n",
       "       [-0.16459793, -0.19502069, -0.29489803, -0.45543557,  0.05450457,\n",
       "        -0.07549269,  1.        ]], dtype=float32)"
      ]
     },
     "execution_count": 20,
     "metadata": {},
     "output_type": "execute_result"
    }
   ],
   "source": [
    "correlation_matrices"
   ]
  },
  {
   "cell_type": "code",
   "execution_count": 21,
   "id": "abcd5551",
   "metadata": {},
   "outputs": [],
   "source": [
    "# use nilearn to plot it\n",
    "from nilearn.plotting import plot_matrix"
   ]
  },
  {
   "cell_type": "code",
   "execution_count": 22,
   "id": "6a9c6bb7",
   "metadata": {},
   "outputs": [],
   "source": [
    "# extract provided labels and make them ready for plotting\n",
    "import pandas as pd\n",
    "labels = pd.read_csv(atlas_yeo.colors_7, sep=' ')['Unnamed: 7'].to_numpy()"
   ]
  },
  {
   "cell_type": "code",
   "execution_count": 23,
   "id": "74d52b68",
   "metadata": {},
   "outputs": [
    {
     "data": {
      "text/plain": [
       "<matplotlib.image.AxesImage at 0x7f8f9e37ba58>"
      ]
     },
     "execution_count": 23,
     "metadata": {},
     "output_type": "execute_result"
    },
    {
     "data": {
      "image/png": "[encoded data removed]",
      "text/plain": [
       "<Figure size 504x360 with 2 Axes>"
      ]
     },
     "metadata": {
      "needs_background": "light"
     },
     "output_type": "display_data"
    }
   ],
   "source": [
    "# plot connectivity matrix\n",
    "plot_matrix(correlation_matrices, cmap='magma', labels=labels)"
   ]
  },
  {
   "cell_type": "markdown",
   "id": "c303f444",
   "metadata": {},
   "source": [
    "### tasks & next steps\n",
    "\n",
    "- write a `loop` that applies the above steps for each `participant`\n",
    "    - what should be changed adapted?\n",
    "    - hint: the `nilearn` tutorial shared during the meeting basically has everything\n",
    "- what do the `connectivity matrices` reflect? \n",
    "- how would the `connectivity matrices` be utilized within the `analyzes`?\n",
    "    - can they be used \"as-is\"?\n",
    "    - if not, what should be changed?"
   ]
  }
 ],
 "metadata": {
  "kernelspec": {
   "display_name": "neuro_ai",
   "language": "python",
   "name": "neuro_ai"
  },
  "language_info": {
   "codemirror_mode": {
    "name": "ipython",
    "version": 3
   },
   "file_extension": ".py",
   "mimetype": "text/x-python",
   "name": "python",
   "nbconvert_exporter": "python",
   "pygments_lexer": "ipython3",
   "version": "3.7.0"
  }
 },
 "nbformat": 4,
 "nbformat_minor": 5
}
